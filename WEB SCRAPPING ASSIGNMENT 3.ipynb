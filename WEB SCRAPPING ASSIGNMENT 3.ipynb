{
 "cells": [
  {
   "cell_type": "code",
   "execution_count": null,
   "id": "22fd37a2",
   "metadata": {},
   "outputs": [],
   "source": [
    "                                   WEB SCRAPPING ASSIGNMENT 3"
   ]
  },
  {
   "cell_type": "code",
   "execution_count": null,
   "id": "32a96947",
   "metadata": {},
   "outputs": [],
   "source": [
    "#Question no 1. Write a python program which searches all the product under a particular product from www.amazon.in. The \n",
    "product to be searched will be taken as input from user. For e.g. If user input is ‘guitar’. Then search for guitars."
   ]
  },
  {
   "cell_type": "code",
   "execution_count": 1,
   "id": "5b8b6927",
   "metadata": {},
   "outputs": [],
   "source": [
    "import selenium\n",
    "import pandas as pd\n",
    "from selenium import webdriver\n",
    "import warnings\n",
    "warnings.filterwarnings(\"ignore\")     \n",
    "from selenium.webdriver.common.by import By \n",
    "import time"
   ]
  },
  {
   "cell_type": "code",
   "execution_count": 2,
   "id": "ff71b10b",
   "metadata": {},
   "outputs": [],
   "source": [
    "from selenium.common.exceptions import  StaleElementReferenceException, NoSuchElementException"
   ]
  },
  {
   "cell_type": "code",
   "execution_count": 3,
   "id": "ed4ded8b",
   "metadata": {},
   "outputs": [],
   "source": [
    "driver = webdriver.Chrome(r\"D:\\Downloads\\chromedriver_win32\\chromedriver.exe\")"
   ]
  },
  {
   "cell_type": "code",
   "execution_count": 4,
   "id": "ebb31f13",
   "metadata": {},
   "outputs": [],
   "source": [
    "driver.get('https://www.amazon.in/')"
   ]
  },
  {
   "cell_type": "code",
   "execution_count": 5,
   "id": "265be149",
   "metadata": {},
   "outputs": [
    {
     "name": "stdout",
     "output_type": "stream",
     "text": [
      "please enter product details guitar\n"
     ]
    }
   ],
   "source": [
    "product=(input('please enter product details ')+'s')"
   ]
  },
  {
   "cell_type": "code",
   "execution_count": 6,
   "id": "c187945e",
   "metadata": {},
   "outputs": [],
   "source": [
    "product_search=driver.find_element(By.XPATH,'//input[@class=\"nav-input nav-progressive-attribute\"]')\n",
    "product_search.send_keys(product)"
   ]
  },
  {
   "cell_type": "code",
   "execution_count": 7,
   "id": "aae7531a",
   "metadata": {},
   "outputs": [],
   "source": [
    "driver.close()"
   ]
  },
  {
   "cell_type": "code",
   "execution_count": null,
   "id": "d6090406",
   "metadata": {},
   "outputs": [],
   "source": [
    "#Question no 2 In the above question, now scrape the following details of each product listed in first 3 pages of your \n",
    "search results and save it in a data frame and csv. In case if any product has less than 3 pages in search \n",
    "results then scrape all the products available under that product name. Details to be scraped are: \"Brand \n",
    "Name\", \"Name of the Product\", \"Price\", \"Return/Exchange\", \"Expected Delivery\", \"Availability\" and \n",
    "“Product URL”. In case, if any of the details are missing for any of the product then replace it by “-“."
   ]
  },
  {
   "cell_type": "code",
   "execution_count": 8,
   "id": "13fb5fd6",
   "metadata": {},
   "outputs": [],
   "source": [
    "driver = webdriver.Chrome(r\"D:\\Downloads\\chromedriver_win32\\chromedriver.exe\")"
   ]
  },
  {
   "cell_type": "code",
   "execution_count": 9,
   "id": "b4b98d49",
   "metadata": {},
   "outputs": [],
   "source": [
    "driver.get('https://www.amazon.in/')"
   ]
  },
  {
   "cell_type": "code",
   "execution_count": 10,
   "id": "86b527c8",
   "metadata": {},
   "outputs": [
    {
     "name": "stdout",
     "output_type": "stream",
     "text": [
      "please enter product details guitar\n"
     ]
    }
   ],
   "source": [
    "product=(input('please enter product details ')+'s')"
   ]
  },
  {
   "cell_type": "code",
   "execution_count": 11,
   "id": "7cf0a314",
   "metadata": {},
   "outputs": [],
   "source": [
    "product_search=driver.find_element(By.XPATH,'//input[@class=\"nav-input nav-progressive-attribute\"]')\n",
    "product_search.send_keys(product)"
   ]
  },
  {
   "cell_type": "code",
   "execution_count": 12,
   "id": "189418d8",
   "metadata": {},
   "outputs": [],
   "source": [
    "search=driver.find_element(By.XPATH,'/html/body/div[1]/header/div/div[1]/div[2]/div/form/div[3]/div/span/input')\n",
    "search.click()"
   ]
  },
  {
   "cell_type": "code",
   "execution_count": 13,
   "id": "07915d72",
   "metadata": {},
   "outputs": [],
   "source": [
    "url=[]"
   ]
  },
  {
   "cell_type": "code",
   "execution_count": 14,
   "id": "c7dc095e",
   "metadata": {},
   "outputs": [],
   "source": [
    "for page in range (1,3):\n",
    "    try:\n",
    "       \n",
    "        url_tags=driver.find_elements(By.XPATH, '//a[@class=\"a-link-normal s-underline-text s-underline-link-text s-link-style a-text-normal\"]' )\n",
    "        for i in url_tags:\n",
    "            url.append(i.get_attribute('href'))\n",
    "    except NoSuchElementException:\n",
    "          url.append('-')\n",
    "        \n",
    "        \n",
    "    next_button=driver.find_element(By.XPATH,'//a[@class=\"s-pagination-item s-pagination-next s-pagination-button s-pagination-separator\"]')\n",
    "    next_button.click()\n",
    "    time.sleep(5)"
   ]
  },
  {
   "cell_type": "code",
   "execution_count": 15,
   "id": "9dd309c7",
   "metadata": {},
   "outputs": [
    {
     "name": "stdout",
     "output_type": "stream",
     "text": [
      "120\n"
     ]
    }
   ],
   "source": [
    "print(len(url))"
   ]
  },
  {
   "cell_type": "code",
   "execution_count": 16,
   "id": "04c4d123",
   "metadata": {},
   "outputs": [],
   "source": [
    "brand_name=[]\n",
    "product_name=[]\n",
    "price=[]\n",
    "return_exchange=[]\n",
    "expected_delivery=[]\n",
    "availability=[]"
   ]
  },
  {
   "cell_type": "code",
   "execution_count": 17,
   "id": "9aabe185",
   "metadata": {},
   "outputs": [],
   "source": [
    "for details in url:\n",
    "    driver.get(details)\n",
    "    time.sleep(5)\n",
    "    \n",
    "    try:\n",
    "        brand_tags= driver.find_elements(By.XPATH,'//tr[@class=\"a-spacing-small po-brand\"]/td[2]')\n",
    "        for i in brand_tags:\n",
    "            brand_name.append(i.text)\n",
    "            \n",
    "            \n",
    "    except NoSuchElementException:\n",
    "        brand_name.append('No details')\n",
    "        \n",
    "        \n",
    "    try:\n",
    "        product_tags=driver.find_elements(By.XPATH,'//h1[@class=\"a-size-large a-spacing-none\"]')\n",
    "        for i in product_tags:\n",
    "            product_name.append(i.text)\n",
    "        \n",
    "    except NoSuchElementException:\n",
    "        brand_name.append('No details')\n",
    "        \n",
    "    try:\n",
    "        price_tags=driver.find_elements(By.XPATH,'//span[@class=\"a-price aok-align-center\"]')\n",
    "        for i in price_tags:\n",
    "            price.append(i.text)\n",
    "            \n",
    "        \n",
    "    except NoSuchElementException:\n",
    "        brand_name.append('No details')\n",
    "        \n",
    "        \n",
    "    try:\n",
    "        exchange_tags= driver.find_elements(By.XPATH,'//span[@class=\"a-declarative\"]/div/a')\n",
    "        for i in exchange_tags:\n",
    "            return_exchange.append(i.text)\n",
    "            \n",
    "    except NoSuchElementException:\n",
    "        return_exchange.append('No details')\n",
    "        \n",
    "        \n",
    "    try:\n",
    "        delivery_tags= driver.find_elements(By.XPATH,'//div[@class=\"a-spacing-base\"]/span/span[1]')\n",
    "        for i in delivery_tags:\n",
    "                expected_delivery.append(i.text)\n",
    "                \n",
    "    except NoSuchElementException:\n",
    "        expected_delivery.append('No details')\n",
    "        \n",
    "        \n",
    "    try:\n",
    "        availability_tags = driver.find_elements(By.XPATH,'//div[@class=\"a-section a-spacing-none a-spacing-top-micro }\"]')\n",
    "        for i in availability_tags:\n",
    "            availability.append(i.text)\n",
    "            \n",
    "            \n",
    "    except NoSuchElementException:\n",
    "        availability.append('No details')"
   ]
  },
  {
   "cell_type": "code",
   "execution_count": 20,
   "id": "3e7b3bd2",
   "metadata": {},
   "outputs": [
    {
     "name": "stdout",
     "output_type": "stream",
     "text": [
      "120 120 120 155 196 120\n"
     ]
    }
   ],
   "source": [
    "print(len(brand_name),len(product_name),len(price),len(return_exchange),len(expected_delivery),len(availability))"
   ]
  },
  {
   "cell_type": "code",
   "execution_count": 21,
   "id": "828d0542",
   "metadata": {},
   "outputs": [],
   "source": [
    "amont=[]\n",
    "\n",
    "for i in price:\n",
    "    amont.append(i.split('\\n')[0])"
   ]
  },
  {
   "cell_type": "code",
   "execution_count": 24,
   "id": "3b3b0652",
   "metadata": {},
   "outputs": [
    {
     "data": {
      "text/html": [
       "<div>\n",
       "<style scoped>\n",
       "    .dataframe tbody tr th:only-of-type {\n",
       "        vertical-align: middle;\n",
       "    }\n",
       "\n",
       "    .dataframe tbody tr th {\n",
       "        vertical-align: top;\n",
       "    }\n",
       "\n",
       "    .dataframe thead th {\n",
       "        text-align: right;\n",
       "    }\n",
       "</style>\n",
       "<table border=\"1\" class=\"dataframe\">\n",
       "  <thead>\n",
       "    <tr style=\"text-align: right;\">\n",
       "      <th></th>\n",
       "      <th>PRODUCT_NAME</th>\n",
       "      <th>BRAND</th>\n",
       "      <th>price</th>\n",
       "      <th>Availability</th>\n",
       "    </tr>\n",
       "  </thead>\n",
       "  <tbody>\n",
       "    <tr>\n",
       "      <th>0</th>\n",
       "      <td>Kadence Frontier guitar with Online Guitar lea...</td>\n",
       "      <td>Kadence</td>\n",
       "      <td>₹4,999</td>\n",
       "      <td>In stock</td>\n",
       "    </tr>\n",
       "    <tr>\n",
       "      <th>1</th>\n",
       "      <td>Henrix 38C 38 Inch Cutaway Acoustic Guitar Wit...</td>\n",
       "      <td>Henrix</td>\n",
       "      <td>₹2,999</td>\n",
       "      <td>In stock</td>\n",
       "    </tr>\n",
       "    <tr>\n",
       "      <th>2</th>\n",
       "      <td>PS Signature Acoustic Sunburst Guitar (Sunburs...</td>\n",
       "      <td>PS Signature</td>\n",
       "      <td>₹3,999</td>\n",
       "      <td>In stock</td>\n",
       "    </tr>\n",
       "    <tr>\n",
       "      <th>3</th>\n",
       "      <td>Vault Traveller 34 Inch Acoustic Guitar With T...</td>\n",
       "      <td>VAULT</td>\n",
       "      <td>₹4,084</td>\n",
       "      <td>In stock</td>\n",
       "    </tr>\n",
       "    <tr>\n",
       "      <th>4</th>\n",
       "      <td>Juârez Acoustic Guitar, 38 Inch Cutaway, 038C ...</td>\n",
       "      <td>JUAREZ</td>\n",
       "      <td>₹1,999</td>\n",
       "      <td>In stock</td>\n",
       "    </tr>\n",
       "    <tr>\n",
       "      <th>...</th>\n",
       "      <td>...</td>\n",
       "      <td>...</td>\n",
       "      <td>...</td>\n",
       "      <td>...</td>\n",
       "    </tr>\n",
       "    <tr>\n",
       "      <th>115</th>\n",
       "      <td>Juârez JRZ38C/ZEB 6 Strings Acoustic Guitar 38...</td>\n",
       "      <td>JUAREZ</td>\n",
       "      <td>₹2,950</td>\n",
       "      <td>In stock</td>\n",
       "    </tr>\n",
       "    <tr>\n",
       "      <th>116</th>\n",
       "      <td>Blueberry VIP 341, 34 Inch Acoustic Guitar Kit...</td>\n",
       "      <td>blueberry</td>\n",
       "      <td>₹3,290</td>\n",
       "      <td>In stock</td>\n",
       "    </tr>\n",
       "    <tr>\n",
       "      <th>117</th>\n",
       "      <td>DIKUJI ENTERPRISE 6 String Big Musical Instrum...</td>\n",
       "      <td>DIKUJI ENTERPRISE</td>\n",
       "      <td>₹1,999</td>\n",
       "      <td>In stock</td>\n",
       "    </tr>\n",
       "    <tr>\n",
       "      <th>118</th>\n",
       "      <td>Tagima Junior 30 Inch Acoustic Guitar for Kids</td>\n",
       "      <td>MUSTANG</td>\n",
       "      <td>₹1,290</td>\n",
       "      <td>In stock</td>\n",
       "    </tr>\n",
       "    <tr>\n",
       "      <th>119</th>\n",
       "      <td>Blueberry VIP 361, 36 Inch Acoustic Guitar Kit...</td>\n",
       "      <td>blueberry</td>\n",
       "      <td>₹3,290</td>\n",
       "      <td>In stock</td>\n",
       "    </tr>\n",
       "  </tbody>\n",
       "</table>\n",
       "<p>120 rows × 4 columns</p>\n",
       "</div>"
      ],
      "text/plain": [
       "                                          PRODUCT_NAME              BRAND  \\\n",
       "0    Kadence Frontier guitar with Online Guitar lea...            Kadence   \n",
       "1    Henrix 38C 38 Inch Cutaway Acoustic Guitar Wit...             Henrix   \n",
       "2    PS Signature Acoustic Sunburst Guitar (Sunburs...       PS Signature   \n",
       "3    Vault Traveller 34 Inch Acoustic Guitar With T...              VAULT   \n",
       "4    Juârez Acoustic Guitar, 38 Inch Cutaway, 038C ...             JUAREZ   \n",
       "..                                                 ...                ...   \n",
       "115  Juârez JRZ38C/ZEB 6 Strings Acoustic Guitar 38...             JUAREZ   \n",
       "116  Blueberry VIP 341, 34 Inch Acoustic Guitar Kit...          blueberry   \n",
       "117  DIKUJI ENTERPRISE 6 String Big Musical Instrum...  DIKUJI ENTERPRISE   \n",
       "118     Tagima Junior 30 Inch Acoustic Guitar for Kids            MUSTANG   \n",
       "119  Blueberry VIP 361, 36 Inch Acoustic Guitar Kit...          blueberry   \n",
       "\n",
       "      price Availability  \n",
       "0    ₹4,999     In stock  \n",
       "1    ₹2,999     In stock  \n",
       "2    ₹3,999     In stock  \n",
       "3    ₹4,084     In stock  \n",
       "4    ₹1,999     In stock  \n",
       "..      ...          ...  \n",
       "115  ₹2,950     In stock  \n",
       "116  ₹3,290     In stock  \n",
       "117  ₹1,999     In stock  \n",
       "118  ₹1,290     In stock  \n",
       "119  ₹3,290     In stock  \n",
       "\n",
       "[120 rows x 4 columns]"
      ]
     },
     "execution_count": 24,
     "metadata": {},
     "output_type": "execute_result"
    }
   ],
   "source": [
    "df=pd.DataFrame({'PRODUCT_NAME': product_name,'BRAND':brand_name,'price':amont,'Availability':availability})\n",
    "df"
   ]
  },
  {
   "cell_type": "code",
   "execution_count": null,
   "id": "54f5d63b",
   "metadata": {},
   "outputs": [],
   "source": [
    "#question number 3"
   ]
  },
  {
   "cell_type": "code",
   "execution_count": 3,
   "id": "23bb9533",
   "metadata": {},
   "outputs": [],
   "source": [
    "import selenium\n",
    "import pandas as pd\n",
    "from selenium import webdriver\n",
    "import warnings\n",
    "warnings.filterwarnings(\"ignore\")     \n",
    "from selenium.webdriver.common.by import By \n",
    "import time"
   ]
  },
  {
   "cell_type": "code",
   "execution_count": 4,
   "id": "f42e64b6",
   "metadata": {},
   "outputs": [],
   "source": [
    "from selenium.common.exceptions import  StaleElementReferenceException, NoSuchElementException"
   ]
  },
  {
   "cell_type": "code",
   "execution_count": 5,
   "id": "1aadfe7b",
   "metadata": {},
   "outputs": [],
   "source": [
    "driver = webdriver.Chrome(r\"D:\\Downloads\\chromedriver_win32\\chromedriver.exe\")"
   ]
  },
  {
   "cell_type": "code",
   "execution_count": 6,
   "id": "0e18474a",
   "metadata": {},
   "outputs": [],
   "source": [
    "driver.get('https://images.google.com/')"
   ]
  },
  {
   "cell_type": "code",
   "execution_count": 7,
   "id": "7bdeaa04",
   "metadata": {},
   "outputs": [],
   "source": [
    "search=driver.find_element(By.CLASS_NAME,'gLFyf')\n",
    "search.send_keys('fruits')"
   ]
  },
  {
   "cell_type": "code",
   "execution_count": 11,
   "id": "5051f2c0",
   "metadata": {},
   "outputs": [],
   "source": [
    "submit=driver.find_element(By.CLASS_NAME,'zgAlFc')\n",
    "submit.click()"
   ]
  },
  {
   "cell_type": "code",
   "execution_count": 13,
   "id": "4dff2545",
   "metadata": {},
   "outputs": [],
   "source": [
    "Fruits = []"
   ]
  },
  {
   "cell_type": "code",
   "execution_count": 14,
   "id": "d4dd8090",
   "metadata": {},
   "outputs": [
    {
     "data": {
      "text/plain": [
       "['https://www.google.com/imgres?imgurl=https%3A%2F%2Fwww.healthyeating.org%2Fimages%2Fdefault-source%2Fhome-0.0%2Fnutrition-topics-2.0%2Fgeneral-nutrition-wellness%2F2-2-2-3foodgroups_fruits_detailfeature.jpg%3Fsfvrsn%3D64942d53_4&tbnid=Q4bX4WPZSyS9mM&vet=12ahUKEwiDgsjSw_n-AhUK_zgGHYB5AtsQMygAegUIARDdAQ..i&imgrefurl=https%3A%2F%2Fwww.healthyeating.org%2Fnutrition-topics%2Fgeneral%2Ffood-groups%2Ffruits&docid=WBuiUqN8vNvk7M&w=1200&h=686&q=fruits&ved=2ahUKEwiDgsjSw_n-AhUK_zgGHYB5AtsQMygAegUIARDdAQ',\n",
       " 'https://www.healthyeating.org/nutrition-topics/general/food-groups/fruits',\n",
       " None,\n",
       " 'https://www.vecteezy.com/vector-art/6521988-colorful-simple-fruit-drawing-perfect-for-children-s-illustration-and-teaching',\n",
       " None,\n",
       " 'https://englishgrammarhere.com/vocabulary/fruits-names-list-definition-and-examples/',\n",
       " None,\n",
       " 'https://www.goodhousekeeping.com/health/diet-nutrition/g28511617/healthiest-fruits/',\n",
       " None,\n",
       " 'https://onlymyenglish.com/fruits-name-english/',\n",
       " None,\n",
       " 'https://www.amazon.in/Fruits-All-One-Dreamland-Publications/dp/8184510594',\n",
       " None,\n",
       " 'https://www.researchgate.net/figure/Exotic-fruits-covered-by-the-review_fig1_225766656',\n",
       " None,\n",
       " 'https://www.facebook.com/vocabularypointofficial/photos/a.116049283959137/187187356845329/?type=3',\n",
       " None,\n",
       " 'https://www.healthline.com/nutrition/healthy-fruit',\n",
       " None,\n",
       " 'https://www.livemint.com/news/business-of-life/time-to-eat-fruit-1541783904822.html',\n",
       " None,\n",
       " 'https://www.snexplores.org/article/scientists-say-fruit',\n",
       " None,\n",
       " 'https://www.healthline.com/nutrition/list-of-fruits',\n",
       " None,\n",
       " 'https://fruitguys.com/almanac/infographics/field-guide-fruit-colors/',\n",
       " None,\n",
       " 'https://www.pinterest.com/pin/15-fruit-names-list-with-pictures-in-2022--762445411927228363/',\n",
       " None,\n",
       " 'https://sunrisefruits.com/producto/naranjas/?lang=en',\n",
       " None,\n",
       " 'https://www.libertyprim.com/en/lexique-familles/103/apple-lexique-des-fruits.htm',\n",
       " None,\n",
       " 'https://onlymyenglish.com/tropical-fruits/',\n",
       " None,\n",
       " 'https://www.healthshots.com/healthy-eating/nutrition/4-fruit-combinations-that-you-should-never-eat/',\n",
       " None,\n",
       " 'https://www.freepik.com/vectors/fruit',\n",
       " None,\n",
       " 'https://sites.google.com/site/integratedagricultureportal/fruits',\n",
       " None,\n",
       " 'https://byjus.com/english/fruits-names/',\n",
       " None,\n",
       " 'https://www.thehansindia.com/life-style/health/amazing-health-benefits-of-mango-king-of-fruits-741006',\n",
       " None,\n",
       " 'https://www.bbcgoodfood.com/howto/guide/top-20-healthiest-fruits',\n",
       " None,\n",
       " 'https://www.health.harvard.edu/blog/are-certain-fruits-healthier-than-others-202201312677',\n",
       " None,\n",
       " 'https://en.wikipedia.org/wiki/List_of_national_fruits',\n",
       " None,\n",
       " 'https://www.herzindagi.com/diet-nutrition/summer-fruits-to-keep-cool-article-198723',\n",
       " None,\n",
       " 'https://www.unlockfood.ca/en/Articles/Cooking-Food-Preparation/How-to-store-fruit-to-keep-them-fresh.aspx',\n",
       " None,\n",
       " 'https://www.eatingwell.com/article/8024628/fruits-to-eat-every-week/',\n",
       " None,\n",
       " 'https://onlymyenglish.com/green-fruits-name/',\n",
       " None,\n",
       " 'https://www.memozor.com/memory-games/printable-memory-games/for-kids/fruits',\n",
       " None,\n",
       " 'https://panda.qa/fresh-food/fruits/',\n",
       " None,\n",
       " 'https://engdic.org/5-fruits-names-with-pictures/',\n",
       " None,\n",
       " 'https://www.freepik.com/free-photos-vectors/fruit-background',\n",
       " None,\n",
       " 'https://www.amazon.in/Fruits-Chart-Vidya-Chitr-Prakashan/dp/B00VBOQ2PQ',\n",
       " None,\n",
       " 'https://www.healthline.com/nutrition/healthy-fruit',\n",
       " None,\n",
       " 'https://www.bigbasket.com/pd/30000543/fresho-passion-fruit-500-g/',\n",
       " None,\n",
       " 'https://unsplash.com/s/photos/fruit',\n",
       " None,\n",
       " 'https://www.vedantu.com/english/names-of-fruits',\n",
       " None,\n",
       " 'https://en.wikipedia.org/wiki/Fruit',\n",
       " None,\n",
       " 'https://www.eatingwell.com/article/8021044/bad-fruits-you-should-eat/',\n",
       " None,\n",
       " 'https://www.webstaurantstore.com/blog/3624/tropical-fruits-list.html',\n",
       " None,\n",
       " 'https://www.health.harvard.edu/nutrition/how-many-fruits-and-vegetables-do-we-really-need',\n",
       " None,\n",
       " 'https://www.jiomart.com/c/groceries/fruits-vegetables/fresh-fruits/220',\n",
       " None,\n",
       " 'https://vocabularyan.com/50-green-fruits-names',\n",
       " None,\n",
       " 'https://www.healthshots.com/healthy-eating/nutrition/fruits-for-breakfast-or-not-know-what-an-ayurvedic-gut-health-expert-says/',\n",
       " None,\n",
       " 'https://timesofindia.indiatimes.com/life-style/health-fitness/diet/the-fruits-with-the-most-and-least-sugar/articleshow/85372696.cms',\n",
       " None,\n",
       " 'https://recipes.timesofindia.com/web-stories/10-red-fruits-and-vegetables-to-include-in-diet/photostory/84261575.cms',\n",
       " None,\n",
       " 'https://www.englishclub.com/vocabulary/food-fruits.php']"
      ]
     },
     "execution_count": 14,
     "metadata": {},
     "output_type": "execute_result"
    }
   ],
   "source": [
    "img = driver.find_elements(By.XPATH,\"//div[@class='isv-r PNCib MSM1fd BUooTd']//a\")\n",
    "try:\n",
    "    for i in img:\n",
    "        Fruits.append(i.get_attribute('href'))\n",
    "\n",
    "except:\n",
    "    Fruits.append('-')\n",
    "Fruits"
   ]
  },
  {
   "cell_type": "code",
   "execution_count": 15,
   "id": "8b11bafa",
   "metadata": {},
   "outputs": [],
   "source": [
    "cr=driver.find_element(By.CLASS_NAME,'og3lId')\n",
    "cr.clear()"
   ]
  },
  {
   "cell_type": "code",
   "execution_count": 16,
   "id": "c719878f",
   "metadata": {},
   "outputs": [],
   "source": [
    "cr.send_keys('car')"
   ]
  },
  {
   "cell_type": "code",
   "execution_count": 18,
   "id": "6588306f",
   "metadata": {},
   "outputs": [],
   "source": [
    "clk=driver.find_element(By.CLASS_NAME,'XZ5MVe')\n",
    "clk.click()"
   ]
  },
  {
   "cell_type": "code",
   "execution_count": 19,
   "id": "806e8cc1",
   "metadata": {},
   "outputs": [],
   "source": [
    "car=[]\n",
    "Machine_Learning=[]\n",
    "Guitar=[]\n",
    "Cakes=[]"
   ]
  },
  {
   "cell_type": "code",
   "execution_count": 20,
   "id": "6816868f",
   "metadata": {},
   "outputs": [],
   "source": [
    "cr=driver.find_element(By.CLASS_NAME,'og3lId')\n",
    "cr.clear()\n",
    "\n",
    "cr.send_keys('Machine Learning')\n",
    "\n",
    "clk=driver.find_element(By.CLASS_NAME,'rCGXm')\n",
    "clk.click()\n",
    "\n",
    "\n",
    "Machine_Learning_tags= driver.find_elements(By.XPATH,'//img[@class=\"rg_i Q4LuWd\"]')\n",
    "for i in Machine_Learning_tags[0:10]:\n",
    "    Machine_Learning.append(i.get_attribute('src'))\n",
    "\n",
    "cr=driver.find_element(By.CLASS_NAME,'og3lId')\n",
    "cr.clear()\n",
    "\n",
    "cr.send_keys('Guitar')\n",
    "\n",
    "Guitar=[]\n",
    "Guitar_tags= driver.find_elements(By.XPATH,'//img[@class=\"rg_i Q4LuWd\"]')\n",
    "for i in Guitar_tags[0:10]:\n",
    "    Guitar.append(i.get_attribute('src'))\n",
    "\n",
    "cr=driver.find_element(By.CLASS_NAME,'og3lId')\n",
    "cr.clear()\n",
    "\n",
    "cr.send_keys('Cakes')\n",
    "\n",
    "Cakes=[]\n",
    "Cakes_tags= driver.find_elements(By.XPATH,'//img[@class=\"rg_i Q4LuWd\"]')\n",
    "for i in Cakes_tags[0:10]:\n",
    "    Cakes.append(i.get_attribute('src'))"
   ]
  },
  {
   "cell_type": "code",
   "execution_count": 23,
   "id": "d38b772f",
   "metadata": {},
   "outputs": [
    {
     "ename": "ValueError",
     "evalue": "All arrays must be of the same length",
     "output_type": "error",
     "traceback": [
      "\u001b[1;31m---------------------------------------------------------------------------\u001b[0m",
      "\u001b[1;31mValueError\u001b[0m                                Traceback (most recent call last)",
      "\u001b[1;32m~\\AppData\\Local\\Temp\\ipykernel_4664\\812746180.py\u001b[0m in \u001b[0;36m<module>\u001b[1;34m\u001b[0m\n\u001b[1;32m----> 1\u001b[1;33m \u001b[0mdf\u001b[0m\u001b[1;33m=\u001b[0m\u001b[0mpd\u001b[0m\u001b[1;33m.\u001b[0m\u001b[0mDataFrame\u001b[0m\u001b[1;33m(\u001b[0m\u001b[1;33m{\u001b[0m\u001b[1;34m'FRUIT'\u001b[0m\u001b[1;33m:\u001b[0m\u001b[0mFruits\u001b[0m\u001b[1;33m,\u001b[0m\u001b[1;34m'CARS'\u001b[0m\u001b[1;33m:\u001b[0m\u001b[0mcar\u001b[0m\u001b[1;33m,\u001b[0m\u001b[1;34m'ML'\u001b[0m\u001b[1;33m:\u001b[0m\u001b[0mMachine_Learning\u001b[0m\u001b[1;33m,\u001b[0m\u001b[1;34m'GUITARS'\u001b[0m\u001b[1;33m:\u001b[0m\u001b[0mGuitar\u001b[0m\u001b[1;33m,\u001b[0m\u001b[1;34m'CAKE'\u001b[0m\u001b[1;33m:\u001b[0m\u001b[0mCakes\u001b[0m\u001b[1;33m}\u001b[0m\u001b[1;33m)\u001b[0m\u001b[1;33m\u001b[0m\u001b[1;33m\u001b[0m\u001b[0m\n\u001b[0m\u001b[0;32m      2\u001b[0m \u001b[0mdf\u001b[0m\u001b[1;33m\u001b[0m\u001b[1;33m\u001b[0m\u001b[0m\n",
      "\u001b[1;32m~\\anaconda3\\lib\\site-packages\\pandas\\core\\frame.py\u001b[0m in \u001b[0;36m__init__\u001b[1;34m(self, data, index, columns, dtype, copy)\u001b[0m\n\u001b[0;32m    634\u001b[0m         \u001b[1;32melif\u001b[0m \u001b[0misinstance\u001b[0m\u001b[1;33m(\u001b[0m\u001b[0mdata\u001b[0m\u001b[1;33m,\u001b[0m \u001b[0mdict\u001b[0m\u001b[1;33m)\u001b[0m\u001b[1;33m:\u001b[0m\u001b[1;33m\u001b[0m\u001b[1;33m\u001b[0m\u001b[0m\n\u001b[0;32m    635\u001b[0m             \u001b[1;31m# GH#38939 de facto copy defaults to False only in non-dict cases\u001b[0m\u001b[1;33m\u001b[0m\u001b[1;33m\u001b[0m\u001b[0m\n\u001b[1;32m--> 636\u001b[1;33m             \u001b[0mmgr\u001b[0m \u001b[1;33m=\u001b[0m \u001b[0mdict_to_mgr\u001b[0m\u001b[1;33m(\u001b[0m\u001b[0mdata\u001b[0m\u001b[1;33m,\u001b[0m \u001b[0mindex\u001b[0m\u001b[1;33m,\u001b[0m \u001b[0mcolumns\u001b[0m\u001b[1;33m,\u001b[0m \u001b[0mdtype\u001b[0m\u001b[1;33m=\u001b[0m\u001b[0mdtype\u001b[0m\u001b[1;33m,\u001b[0m \u001b[0mcopy\u001b[0m\u001b[1;33m=\u001b[0m\u001b[0mcopy\u001b[0m\u001b[1;33m,\u001b[0m \u001b[0mtyp\u001b[0m\u001b[1;33m=\u001b[0m\u001b[0mmanager\u001b[0m\u001b[1;33m)\u001b[0m\u001b[1;33m\u001b[0m\u001b[1;33m\u001b[0m\u001b[0m\n\u001b[0m\u001b[0;32m    637\u001b[0m         \u001b[1;32melif\u001b[0m \u001b[0misinstance\u001b[0m\u001b[1;33m(\u001b[0m\u001b[0mdata\u001b[0m\u001b[1;33m,\u001b[0m \u001b[0mma\u001b[0m\u001b[1;33m.\u001b[0m\u001b[0mMaskedArray\u001b[0m\u001b[1;33m)\u001b[0m\u001b[1;33m:\u001b[0m\u001b[1;33m\u001b[0m\u001b[1;33m\u001b[0m\u001b[0m\n\u001b[0;32m    638\u001b[0m             \u001b[1;32mimport\u001b[0m \u001b[0mnumpy\u001b[0m\u001b[1;33m.\u001b[0m\u001b[0mma\u001b[0m\u001b[1;33m.\u001b[0m\u001b[0mmrecords\u001b[0m \u001b[1;32mas\u001b[0m \u001b[0mmrecords\u001b[0m\u001b[1;33m\u001b[0m\u001b[1;33m\u001b[0m\u001b[0m\n",
      "\u001b[1;32m~\\anaconda3\\lib\\site-packages\\pandas\\core\\internals\\construction.py\u001b[0m in \u001b[0;36mdict_to_mgr\u001b[1;34m(data, index, columns, dtype, typ, copy)\u001b[0m\n\u001b[0;32m    500\u001b[0m         \u001b[1;31m# TODO: can we get rid of the dt64tz special case above?\u001b[0m\u001b[1;33m\u001b[0m\u001b[1;33m\u001b[0m\u001b[0m\n\u001b[0;32m    501\u001b[0m \u001b[1;33m\u001b[0m\u001b[0m\n\u001b[1;32m--> 502\u001b[1;33m     \u001b[1;32mreturn\u001b[0m \u001b[0marrays_to_mgr\u001b[0m\u001b[1;33m(\u001b[0m\u001b[0marrays\u001b[0m\u001b[1;33m,\u001b[0m \u001b[0mcolumns\u001b[0m\u001b[1;33m,\u001b[0m \u001b[0mindex\u001b[0m\u001b[1;33m,\u001b[0m \u001b[0mdtype\u001b[0m\u001b[1;33m=\u001b[0m\u001b[0mdtype\u001b[0m\u001b[1;33m,\u001b[0m \u001b[0mtyp\u001b[0m\u001b[1;33m=\u001b[0m\u001b[0mtyp\u001b[0m\u001b[1;33m,\u001b[0m \u001b[0mconsolidate\u001b[0m\u001b[1;33m=\u001b[0m\u001b[0mcopy\u001b[0m\u001b[1;33m)\u001b[0m\u001b[1;33m\u001b[0m\u001b[1;33m\u001b[0m\u001b[0m\n\u001b[0m\u001b[0;32m    503\u001b[0m \u001b[1;33m\u001b[0m\u001b[0m\n\u001b[0;32m    504\u001b[0m \u001b[1;33m\u001b[0m\u001b[0m\n",
      "\u001b[1;32m~\\anaconda3\\lib\\site-packages\\pandas\\core\\internals\\construction.py\u001b[0m in \u001b[0;36marrays_to_mgr\u001b[1;34m(arrays, columns, index, dtype, verify_integrity, typ, consolidate)\u001b[0m\n\u001b[0;32m    118\u001b[0m         \u001b[1;31m# figure out the index, if necessary\u001b[0m\u001b[1;33m\u001b[0m\u001b[1;33m\u001b[0m\u001b[0m\n\u001b[0;32m    119\u001b[0m         \u001b[1;32mif\u001b[0m \u001b[0mindex\u001b[0m \u001b[1;32mis\u001b[0m \u001b[1;32mNone\u001b[0m\u001b[1;33m:\u001b[0m\u001b[1;33m\u001b[0m\u001b[1;33m\u001b[0m\u001b[0m\n\u001b[1;32m--> 120\u001b[1;33m             \u001b[0mindex\u001b[0m \u001b[1;33m=\u001b[0m \u001b[0m_extract_index\u001b[0m\u001b[1;33m(\u001b[0m\u001b[0marrays\u001b[0m\u001b[1;33m)\u001b[0m\u001b[1;33m\u001b[0m\u001b[1;33m\u001b[0m\u001b[0m\n\u001b[0m\u001b[0;32m    121\u001b[0m         \u001b[1;32melse\u001b[0m\u001b[1;33m:\u001b[0m\u001b[1;33m\u001b[0m\u001b[1;33m\u001b[0m\u001b[0m\n\u001b[0;32m    122\u001b[0m             \u001b[0mindex\u001b[0m \u001b[1;33m=\u001b[0m \u001b[0mensure_index\u001b[0m\u001b[1;33m(\u001b[0m\u001b[0mindex\u001b[0m\u001b[1;33m)\u001b[0m\u001b[1;33m\u001b[0m\u001b[1;33m\u001b[0m\u001b[0m\n",
      "\u001b[1;32m~\\anaconda3\\lib\\site-packages\\pandas\\core\\internals\\construction.py\u001b[0m in \u001b[0;36m_extract_index\u001b[1;34m(data)\u001b[0m\n\u001b[0;32m    672\u001b[0m             \u001b[0mlengths\u001b[0m \u001b[1;33m=\u001b[0m \u001b[0mlist\u001b[0m\u001b[1;33m(\u001b[0m\u001b[0mset\u001b[0m\u001b[1;33m(\u001b[0m\u001b[0mraw_lengths\u001b[0m\u001b[1;33m)\u001b[0m\u001b[1;33m)\u001b[0m\u001b[1;33m\u001b[0m\u001b[1;33m\u001b[0m\u001b[0m\n\u001b[0;32m    673\u001b[0m             \u001b[1;32mif\u001b[0m \u001b[0mlen\u001b[0m\u001b[1;33m(\u001b[0m\u001b[0mlengths\u001b[0m\u001b[1;33m)\u001b[0m \u001b[1;33m>\u001b[0m \u001b[1;36m1\u001b[0m\u001b[1;33m:\u001b[0m\u001b[1;33m\u001b[0m\u001b[1;33m\u001b[0m\u001b[0m\n\u001b[1;32m--> 674\u001b[1;33m                 \u001b[1;32mraise\u001b[0m \u001b[0mValueError\u001b[0m\u001b[1;33m(\u001b[0m\u001b[1;34m\"All arrays must be of the same length\"\u001b[0m\u001b[1;33m)\u001b[0m\u001b[1;33m\u001b[0m\u001b[1;33m\u001b[0m\u001b[0m\n\u001b[0m\u001b[0;32m    675\u001b[0m \u001b[1;33m\u001b[0m\u001b[0m\n\u001b[0;32m    676\u001b[0m             \u001b[1;32mif\u001b[0m \u001b[0mhave_dicts\u001b[0m\u001b[1;33m:\u001b[0m\u001b[1;33m\u001b[0m\u001b[1;33m\u001b[0m\u001b[0m\n",
      "\u001b[1;31mValueError\u001b[0m: All arrays must be of the same length"
     ]
    }
   ],
   "source": [
    "df=pd.DataFrame({'FRUIT':Fruits,'CARS':car,'ML':Machine_Learning,'GUITARS':Guitar,'CAKE':Cakes})\n",
    "df"
   ]
  },
  {
   "cell_type": "code",
   "execution_count": null,
   "id": "2a27c28e",
   "metadata": {},
   "outputs": [],
   "source": [
    "#Question no 4 4. Write a python program to search for a smartphone(e.g.: Oneplus Nord, pixel 4A, etc.) on\n",
    "www.flipkart.com and scrape following details for all the search results displayed on 1st page. Details to be \n",
    "scraped: “Brand Name”, “Smartphone name”, “Colour”, “RAM”, “Storage(ROM)”, “Primary Camera”, \n",
    "“Secondary Camera”, “Display Size”, “Battery Capacity”, “Price”, “Product URL”. Incase if any of the \n",
    "details is missing then replace it by “- “. Save your results in a dataframe and CSV.\n"
   ]
  },
  {
   "cell_type": "code",
   "execution_count": 24,
   "id": "9cc2e498",
   "metadata": {},
   "outputs": [],
   "source": [
    "driver.get(\"https://www.flipkart.com/\")"
   ]
  },
  {
   "cell_type": "code",
   "execution_count": 25,
   "id": "41a635a6",
   "metadata": {},
   "outputs": [],
   "source": [
    "search=driver.find_element(By.CLASS_NAME,'_3704LK')\n",
    "search.send_keys('smartphone')"
   ]
  },
  {
   "cell_type": "code",
   "execution_count": 26,
   "id": "da43298b",
   "metadata": {},
   "outputs": [],
   "source": [
    "find=driver.find_element(By.CLASS_NAME,'L0Z3Pu')\n",
    "find.click()"
   ]
  },
  {
   "cell_type": "code",
   "execution_count": 27,
   "id": "ef69f84a",
   "metadata": {},
   "outputs": [],
   "source": [
    "url=[]\n",
    "try:\n",
    "    link_tags=driver.find_elements(By.XPATH,'//a[@class=\"_1fQZEK\"]')\n",
    "    for i in link_tags:\n",
    "        url.append(i.get_attribute('href'))\n",
    "        \n",
    "except NoSuchElementException:\n",
    "    url.append('-')"
   ]
  },
  {
   "cell_type": "code",
   "execution_count": 28,
   "id": "a6411a3a",
   "metadata": {},
   "outputs": [
    {
     "data": {
      "text/plain": [
       "['https://www.flipkart.com/redmi-10-midnight-black-64-gb/p/itmd93641e4ebb47?pid=MOBGC9GYEBH3GZ4E&lid=LSTMOBGC9GYEBH3GZ4E44YY0L&marketplace=FLIPKART&q=smartphone&store=tyy%2F4io&srno=s_1_1&otracker=search&otracker1=search&fm=organic&iid=e0af6177-5585-4168-93ca-dddcaaaaeef0.MOBGC9GYEBH3GZ4E.SEARCH&ppt=None&ppn=None&ssid=tn5v5laf0w0000001684231033261&qH=1036ba3c4ed2c021',\n",
       " 'https://www.flipkart.com/samsung-galaxy-f04-opal-green-64-gb/p/itmd0c05f8b03876?pid=MOBGKY2V7QZ2QVFS&lid=LSTMOBGKY2V7QZ2QVFSGOGYVU&marketplace=FLIPKART&q=smartphone&store=tyy%2F4io&spotlightTagId=BestsellerId_tyy%2F4io&srno=s_1_2&otracker=search&otracker1=search&fm=Search&iid=e0af6177-5585-4168-93ca-dddcaaaaeef0.MOBGKY2V7QZ2QVFS.SEARCH&ppt=sp&ppn=sp&ssid=tn5v5laf0w0000001684231033261&qH=1036ba3c4ed2c021',\n",
       " 'https://www.flipkart.com/poco-c55-cool-blue-128-gb/p/itm26aca9fd143ba?pid=MOBGMXSWJHRVUWFE&lid=LSTMOBGMXSWJHRVUWFEKXH4XM&marketplace=FLIPKART&q=smartphone&store=tyy%2F4io&srno=s_1_3&otracker=search&otracker1=search&fm=organic&iid=e0af6177-5585-4168-93ca-dddcaaaaeef0.MOBGMXSWJHRVUWFE.SEARCH&ppt=None&ppn=None&ssid=tn5v5laf0w0000001684231033261&qH=1036ba3c4ed2c021',\n",
       " 'https://www.flipkart.com/poco-c55-cool-blue-64-gb/p/itm166c52f5d5dc0?pid=MOBGMXSW55C7ZJE7&lid=LSTMOBGMXSW55C7ZJE7OFBLA7&marketplace=FLIPKART&q=smartphone&store=tyy%2F4io&srno=s_1_4&otracker=search&otracker1=search&fm=organic&iid=e0af6177-5585-4168-93ca-dddcaaaaeef0.MOBGMXSW55C7ZJE7.SEARCH&ppt=None&ppn=None&ssid=tn5v5laf0w0000001684231033261&qH=1036ba3c4ed2c021',\n",
       " 'https://www.flipkart.com/realme-c33-2023-night-sea-64-gb/p/itmdfad610ca6eff?pid=MOBGMWBY7J7NKPQE&lid=LSTMOBGMWBY7J7NKPQE3AVTPM&marketplace=FLIPKART&q=smartphone&store=tyy%2F4io&srno=s_1_5&otracker=search&otracker1=search&fm=organic&iid=e0af6177-5585-4168-93ca-dddcaaaaeef0.MOBGMWBY7J7NKPQE.SEARCH&ppt=None&ppn=None&ssid=tn5v5laf0w0000001684231033261&qH=1036ba3c4ed2c021',\n",
       " 'https://www.flipkart.com/realme-c33-2023-sandy-gold-64-gb/p/itmdfad610ca6eff?pid=MOBGMWBYFKUYZFZA&lid=LSTMOBGMWBYFKUYZFZAG8DUMK&marketplace=FLIPKART&q=smartphone&store=tyy%2F4io&srno=s_1_6&otracker=search&otracker1=search&fm=organic&iid=e0af6177-5585-4168-93ca-dddcaaaaeef0.MOBGMWBYFKUYZFZA.SEARCH&ppt=None&ppn=None&ssid=tn5v5laf0w0000001684231033261&qH=1036ba3c4ed2c021',\n",
       " 'https://www.flipkart.com/realme-c33-2023-aqua-blue-64-gb/p/itmdfad610ca6eff?pid=MOBGMWBYUWY2EMNU&lid=LSTMOBGMWBYUWY2EMNUCEFPBD&marketplace=FLIPKART&q=smartphone&store=tyy%2F4io&srno=s_1_7&otracker=search&otracker1=search&fm=organic&iid=e0af6177-5585-4168-93ca-dddcaaaaeef0.MOBGMWBYUWY2EMNU.SEARCH&ppt=None&ppn=None&ssid=tn5v5laf0w0000001684231033261&qH=1036ba3c4ed2c021',\n",
       " 'https://www.flipkart.com/realme-c33-aqua-blue-32-gb/p/itma112335dbe78a?pid=MOBGHBJGFKM7MNQH&lid=LSTMOBGHBJGFKM7MNQHMLW6ZM&marketplace=FLIPKART&q=smartphone&store=tyy%2F4io&srno=s_1_8&otracker=search&otracker1=search&fm=organic&iid=e0af6177-5585-4168-93ca-dddcaaaaeef0.MOBGHBJGFKM7MNQH.SEARCH&ppt=None&ppn=None&ssid=tn5v5laf0w0000001684231033261&qH=1036ba3c4ed2c021',\n",
       " 'https://www.flipkart.com/realme-c33-sandy-gold-32-gb/p/itma112335dbe78a?pid=MOBGHBJGF9QZYSZX&lid=LSTMOBGHBJGF9QZYSZXROLVZH&marketplace=FLIPKART&q=smartphone&store=tyy%2F4io&srno=s_1_9&otracker=search&otracker1=search&fm=organic&iid=e0af6177-5585-4168-93ca-dddcaaaaeef0.MOBGHBJGF9QZYSZX.SEARCH&ppt=None&ppn=None&ssid=tn5v5laf0w0000001684231033261&qH=1036ba3c4ed2c021',\n",
       " 'https://www.flipkart.com/poco-c51-royal-blue-64-gb/p/itm1e4e8373537a7?pid=MOBGZCQFCWNDK89P&lid=LSTMOBGZCQFCWNDK89PTMGT86&marketplace=FLIPKART&q=smartphone&store=tyy%2F4io&srno=s_1_10&otracker=search&otracker1=search&fm=organic&iid=e0af6177-5585-4168-93ca-dddcaaaaeef0.MOBGZCQFCWNDK89P.SEARCH&ppt=None&ppn=None&ssid=tn5v5laf0w0000001684231033261&qH=1036ba3c4ed2c021',\n",
       " 'https://www.flipkart.com/samsung-galaxy-m04-light-green-64-gb/p/itmab7e5c8c17908?pid=MOBGH7997RNCWQKV&lid=LSTMOBGH7997RNCWQKVS7XNPA&marketplace=FLIPKART&q=smartphone&store=tyy%2F4io&srno=s_1_11&otracker=search&otracker1=search&fm=organic&iid=e0af6177-5585-4168-93ca-dddcaaaaeef0.MOBGH7997RNCWQKV.SEARCH&ppt=None&ppn=None&ssid=tn5v5laf0w0000001684231033261&qH=1036ba3c4ed2c021',\n",
       " 'https://www.flipkart.com/samsung-galaxy-f13-nightsky-green-64-gb/p/itmeadfda1bd23fa?pid=MOBGENJWF4KJTPEN&lid=LSTMOBGENJWF4KJTPENS2XJXA&marketplace=FLIPKART&q=smartphone&store=tyy%2F4io&srno=s_1_12&otracker=search&otracker1=search&fm=organic&iid=e0af6177-5585-4168-93ca-dddcaaaaeef0.MOBGENJWF4KJTPEN.SEARCH&ppt=None&ppn=None&ssid=tn5v5laf0w0000001684231033261&qH=1036ba3c4ed2c021',\n",
       " 'https://www.flipkart.com/motorola-e13-aurora-green-64-gb/p/itmb52d8f826cd9a?pid=MOBGKHNBA55HDSZR&lid=LSTMOBGKHNBA55HDSZRHOAFME&marketplace=FLIPKART&q=smartphone&store=tyy%2F4io&srno=s_1_13&otracker=search&otracker1=search&fm=organic&iid=e0af6177-5585-4168-93ca-dddcaaaaeef0.MOBGKHNBA55HDSZR.SEARCH&ppt=None&ppn=None&ssid=tn5v5laf0w0000001684231033261&qH=1036ba3c4ed2c021',\n",
       " 'https://www.flipkart.com/realme-c33-aqua-blue-64-gb/p/itma112335dbe78a?pid=MOBGHBJG3M6FB35G&lid=LSTMOBGHBJG3M6FB35GOCB4ZL&marketplace=FLIPKART&q=smartphone&store=tyy%2F4io&srno=s_1_14&otracker=search&otracker1=search&fm=organic&iid=e0af6177-5585-4168-93ca-dddcaaaaeef0.MOBGHBJG3M6FB35G.SEARCH&ppt=None&ppn=None&ssid=tn5v5laf0w0000001684231033261&qH=1036ba3c4ed2c021',\n",
       " 'https://www.flipkart.com/realme-c33-sandy-gold-64-gb/p/itma112335dbe78a?pid=MOBGHBJG8NWDGK6T&lid=LSTMOBGHBJG8NWDGK6TYTLTOF&marketplace=FLIPKART&q=smartphone&store=tyy%2F4io&srno=s_1_15&otracker=search&otracker1=search&fm=organic&iid=e0af6177-5585-4168-93ca-dddcaaaaeef0.MOBGHBJG8NWDGK6T.SEARCH&ppt=None&ppn=None&ssid=tn5v5laf0w0000001684231033261&qH=1036ba3c4ed2c021',\n",
       " 'https://www.flipkart.com/realme-c33-night-sea-64-gb/p/itma112335dbe78a?pid=MOBGHBJGZ3GYDFD2&lid=LSTMOBGHBJGZ3GYDFD2UJE1AM&marketplace=FLIPKART&q=smartphone&store=tyy%2F4io&srno=s_1_16&otracker=search&otracker1=search&fm=organic&iid=e0af6177-5585-4168-93ca-dddcaaaaeef0.MOBGHBJGZ3GYDFD2.SEARCH&ppt=None&ppn=None&ssid=tn5v5laf0w0000001684231033261&qH=1036ba3c4ed2c021',\n",
       " 'https://www.flipkart.com/realme-c33-night-sea-32-gb/p/itma112335dbe78a?pid=MOBGHBJGGVPHHTYQ&lid=LSTMOBGHBJGGVPHHTYQPKXLM2&marketplace=FLIPKART&q=smartphone&store=tyy%2F4io&spotlightTagId=TrendingId_tyy%2F4io&srno=s_1_17&otracker=search&otracker1=search&fm=organic&iid=e0af6177-5585-4168-93ca-dddcaaaaeef0.MOBGHBJGGVPHHTYQ.SEARCH&ppt=None&ppn=None&ssid=tn5v5laf0w0000001684231033261&qH=1036ba3c4ed2c021',\n",
       " 'https://www.flipkart.com/poco-c55-power-black-128-gb/p/itm52dfc91751293?pid=MOBGMXSWPMRNGVGW&lid=LSTMOBGMXSWPMRNGVGWUDX773&marketplace=FLIPKART&q=smartphone&store=tyy%2F4io&srno=s_1_18&otracker=search&otracker1=search&fm=organic&iid=e0af6177-5585-4168-93ca-dddcaaaaeef0.MOBGMXSWPMRNGVGW.SEARCH&ppt=None&ppn=None&ssid=tn5v5laf0w0000001684231033261&qH=1036ba3c4ed2c021',\n",
       " 'https://www.flipkart.com/redmi-10-caribbean-green-64-gb/p/itmbfb8dfcdd6e10?pid=MOBGC9GYQGGKWEU3&lid=LSTMOBGC9GYQGGKWEU3SLBNSD&marketplace=FLIPKART&q=smartphone&store=tyy%2F4io&srno=s_1_19&otracker=search&otracker1=search&fm=organic&iid=e0af6177-5585-4168-93ca-dddcaaaaeef0.MOBGC9GYQGGKWEU3.SEARCH&ppt=None&ppn=None&ssid=tn5v5laf0w0000001684231033261&qH=1036ba3c4ed2c021',\n",
       " 'https://www.flipkart.com/poco-c55-power-black-64-gb/p/itme567bcd596fe9?pid=MOBGMXSW9PHJVQCA&lid=LSTMOBGMXSW9PHJVQCAFSO8NV&marketplace=FLIPKART&q=smartphone&store=tyy%2F4io&srno=s_1_20&otracker=search&otracker1=search&fm=organic&iid=e0af6177-5585-4168-93ca-dddcaaaaeef0.MOBGMXSW9PHJVQCA.SEARCH&ppt=None&ppn=None&ssid=tn5v5laf0w0000001684231033261&qH=1036ba3c4ed2c021',\n",
       " 'https://www.flipkart.com/poco-c55-forest-green-128-gb/p/itm7ed4c1ff2689f?pid=MOBGMXSWCYATKHYR&lid=LSTMOBGMXSWCYATKHYRK6MOJZ&marketplace=FLIPKART&q=smartphone&store=tyy%2F4io&srno=s_1_21&otracker=search&otracker1=search&fm=organic&iid=e0af6177-5585-4168-93ca-dddcaaaaeef0.MOBGMXSWCYATKHYR.SEARCH&ppt=None&ppn=None&ssid=tn5v5laf0w0000001684231033261&qH=1036ba3c4ed2c021',\n",
       " 'https://www.flipkart.com/motorola-g32-satin-silver-128-gb/p/itm8e7224d29bfc6?pid=MOBGM2EHGUNGDDQR&lid=LSTMOBGM2EHGUNGDDQRKIBLDP&marketplace=FLIPKART&q=smartphone&store=tyy%2F4io&srno=s_1_22&otracker=search&otracker1=search&fm=organic&iid=e0af6177-5585-4168-93ca-dddcaaaaeef0.MOBGM2EHGUNGDDQR.SEARCH&ppt=None&ppn=None&ssid=tn5v5laf0w0000001684231033261&qH=1036ba3c4ed2c021',\n",
       " 'https://www.flipkart.com/motorola-g32-mineral-gray-128-gb/p/itm6061450cb40ac?pid=MOBGM2EHJUTMXMFV&lid=LSTMOBGM2EHJUTMXMFVL5MPKC&marketplace=FLIPKART&q=smartphone&store=tyy%2F4io&srno=s_1_23&otracker=search&otracker1=search&fm=organic&iid=e0af6177-5585-4168-93ca-dddcaaaaeef0.MOBGM2EHJUTMXMFV.SEARCH&ppt=None&ppn=None&ssid=tn5v5laf0w0000001684231033261&qH=1036ba3c4ed2c021',\n",
       " 'https://www.flipkart.com/redmi-10-caribbean-green-128-gb/p/itm2389889c22bf0?pid=MOBGC9GYQVJHKH76&lid=LSTMOBGC9GYQVJHKH76IXAL5V&marketplace=FLIPKART&q=smartphone&store=tyy%2F4io&srno=s_1_24&otracker=search&otracker1=search&fm=organic&iid=e0af6177-5585-4168-93ca-dddcaaaaeef0.MOBGC9GYQVJHKH76.SEARCH&ppt=None&ppn=None&ssid=tn5v5laf0w0000001684231033261&qH=1036ba3c4ed2c021']"
      ]
     },
     "execution_count": 28,
     "metadata": {},
     "output_type": "execute_result"
    }
   ],
   "source": [
    "url"
   ]
  },
  {
   "cell_type": "code",
   "execution_count": 29,
   "id": "1b1e2772",
   "metadata": {},
   "outputs": [
    {
     "name": "stdout",
     "output_type": "stream",
     "text": [
      "24\n"
     ]
    }
   ],
   "source": [
    "print(len(url))"
   ]
  },
  {
   "cell_type": "code",
   "execution_count": 30,
   "id": "2085d6a8",
   "metadata": {},
   "outputs": [],
   "source": [
    "brand=[]\n",
    "name=[]\n",
    "colour=[]\n",
    "ram=[]\n",
    "storage=[]\n",
    "camera=[]\n",
    "secondary_camera=[]\n",
    "display=[]\n",
    "battery=[]\n",
    "price=[]"
   ]
  },
  {
   "cell_type": "code",
   "execution_count": 31,
   "id": "fee59bee",
   "metadata": {},
   "outputs": [],
   "source": [
    "for details in url:\n",
    "    driver.get(details)\n",
    "    time.sleep(5)\n",
    "    \n",
    "    try:\n",
    "        name_tags=driver.find_elements(By.XPATH,'//span[@class=\"B_NuCI\"]')\n",
    "        for i in name_tags:\n",
    "            name.append(i.text)\n",
    "            \n",
    "    except NoSuchElementException:\n",
    "        name.append('No details')\n",
    "\n",
    "    \n",
    "    try:\n",
    "        \n",
    "        brand_tags=driver.find_elements(By.XPATH,'//div[@class=\"_3k-BhJ\"][1]/table/tbody/tr[3]/td[2]')\n",
    "        for i in brand_tags:\n",
    "            brand.append(i.text)\n",
    "            \n",
    "    except NoSuchElementException:\n",
    "        brand.append('No details')\n",
    "        \n",
    "       \n",
    "        \n",
    "    try:\n",
    "        colour_tags=driver.find_elements(By.XPATH,'//div[@class=\"_3k-BhJ\"][1]/table/tbody/tr[4]/td[2]/ul/li')\n",
    "        for i in colour_tags:\n",
    "            colour.append (i.text)\n",
    "            \n",
    "            \n",
    "    except NoSuchElementException:\n",
    "        colour.append('No details')  \n",
    "        \n",
    " #Ram       \n",
    "    try:\n",
    "        storage_tags=driver.find_elements(By.XPATH,'//div[@class=\"_3k-BhJ\"][4]/table/tbody/tr[1]/td[2]/ul/li')\n",
    "        for i in storage_tags:\n",
    "            storage.append(i.text)\n",
    "            \n",
    "    except NoSuchElementException:\n",
    "        storage.append('No details')  \n",
    "        \n",
    "        \n",
    "#rom  \n",
    "    try:\n",
    "        ram_tags=driver.find_elements(By.XPATH,'//div[@class=\"_3k-BhJ\"][4]/table/tbody/tr[2]/td[2]/ul/li')\n",
    "        for i in ram_tags:\n",
    "            ram.append(i.text)\n",
    "            \n",
    "    except NoSuchElementException:\n",
    "        ram.append('No details')\n",
    " \n",
    "        \n",
    "#display\n",
    "    \n",
    "    try:\n",
    "        display_tags=driver.find_elements(By.XPATH,'//div[@class=\"_2418kt\"]/ul/li[2]')\n",
    "        for i in display_tags:\n",
    "            display.append(i.text)\n",
    "\n",
    "            \n",
    "    except NoSuchElementException:\n",
    "        display.append('No details')  \n",
    "        \n",
    "\n",
    "         \n",
    "#camera  \n",
    "    try:\n",
    "        camera_tags=driver.find_elements(By.XPATH,'//div[@class=\"_2418kt\"]/ul/li[3]')\n",
    "        for i in camera_tags:\n",
    "            camera.append(i.text.split('|')[0])\n",
    "            \n",
    "    except NoSuchElementException:\n",
    "        camera.append('No details') \n",
    "        \n",
    "        \n",
    "    try:\n",
    "        secondary_camera_tags=driver.find_elements(By.XPATH,'//div[@class=\"_3k-BhJ\"][5]/table/tbody/tr[6]/td[2]/ul/li')\n",
    "        for i in secondary_camera_tags:\n",
    "            secondary_camera.append(i.text)\n",
    "            \n",
    "    except NoSuchElementException:\n",
    "        secondary_camera.append('No details') \n",
    "        \n",
    "#battery  \n",
    "      \n",
    "        \n",
    "    try:\n",
    "        battery_tags=driver.find_elements(By.XPATH,'//div[@class=\"_2418kt\"]/ul/li[4]')\n",
    "        for i in battery_tags:\n",
    "            battery.append(i.text)\n",
    "            \n",
    "    except NoSuchElementException:\n",
    "        battery.append('No details')  \n",
    "    \n",
    "# price\n",
    "    try:\n",
    "        price_tags= driver.find_elements(By.XPATH,'//div[@class=\"dyC4hf\"]/div/div/div[1]')\n",
    "        for i in price_tags:\n",
    "            price.append(i.text)\n",
    "            \n",
    "    except NoSuchElementException:\n",
    "        price.append('No details')"
   ]
  },
  {
   "cell_type": "code",
   "execution_count": 32,
   "id": "37185df5",
   "metadata": {},
   "outputs": [
    {
     "name": "stdout",
     "output_type": "stream",
     "text": [
      "24 24 24 24 24 24 24 24 24 24\n"
     ]
    }
   ],
   "source": [
    "print(len(name),len(brand),len(colour),len(ram),len(storage),len(camera),len(display),len(battery),len(price),len(secondary_camera))"
   ]
  },
  {
   "cell_type": "code",
   "execution_count": 33,
   "id": "3b9de841",
   "metadata": {},
   "outputs": [
    {
     "data": {
      "text/html": [
       "<div>\n",
       "<style scoped>\n",
       "    .dataframe tbody tr th:only-of-type {\n",
       "        vertical-align: middle;\n",
       "    }\n",
       "\n",
       "    .dataframe tbody tr th {\n",
       "        vertical-align: top;\n",
       "    }\n",
       "\n",
       "    .dataframe thead th {\n",
       "        text-align: right;\n",
       "    }\n",
       "</style>\n",
       "<table border=\"1\" class=\"dataframe\">\n",
       "  <thead>\n",
       "    <tr style=\"text-align: right;\">\n",
       "      <th></th>\n",
       "      <th>name</th>\n",
       "      <th>Brand</th>\n",
       "      <th>colour</th>\n",
       "      <th>ram</th>\n",
       "      <th>camera</th>\n",
       "      <th>display</th>\n",
       "      <th>storage</th>\n",
       "      <th>secondary_camera</th>\n",
       "      <th>battery</th>\n",
       "      <th>price</th>\n",
       "    </tr>\n",
       "  </thead>\n",
       "  <tbody>\n",
       "    <tr>\n",
       "      <th>0</th>\n",
       "      <td>REDMI 10 (Midnight Black, 64 GB)  (4 GB RAM)</td>\n",
       "      <td>10</td>\n",
       "      <td>Midnight Black</td>\n",
       "      <td></td>\n",
       "      <td>50MP + 2MP</td>\n",
       "      <td>17.02 cm (6.7 inch) HD+ Display</td>\n",
       "      <td></td>\n",
       "      <td></td>\n",
       "      <td>6000 mAh Lithium Polymer Battery</td>\n",
       "      <td>₹9,499</td>\n",
       "    </tr>\n",
       "    <tr>\n",
       "      <th>1</th>\n",
       "      <td>SAMSUNG Galaxy F04 (Opal Green, 64 GB)  (4 GB ...</td>\n",
       "      <td>Galaxy F04</td>\n",
       "      <td>Opal Green</td>\n",
       "      <td></td>\n",
       "      <td>13MP + 2MP</td>\n",
       "      <td>16.51 cm (6.5 inch) HD Display</td>\n",
       "      <td></td>\n",
       "      <td></td>\n",
       "      <td>5000 mAh Lithium-Ion Battery</td>\n",
       "      <td>₹8,499</td>\n",
       "    </tr>\n",
       "    <tr>\n",
       "      <th>2</th>\n",
       "      <td>POCO C55 (Cool Blue, 128 GB)  (6 GB RAM)</td>\n",
       "      <td>C55</td>\n",
       "      <td>Cool Blue</td>\n",
       "      <td></td>\n",
       "      <td>50MP Dual Rear Camera</td>\n",
       "      <td>17.04 cm (6.71 inch) HD+ Display</td>\n",
       "      <td></td>\n",
       "      <td></td>\n",
       "      <td>5000 mAh Battery</td>\n",
       "      <td>₹9,499</td>\n",
       "    </tr>\n",
       "    <tr>\n",
       "      <th>3</th>\n",
       "      <td>POCO C55 (Cool Blue, 64 GB)  (4 GB RAM)</td>\n",
       "      <td>C55</td>\n",
       "      <td>Cool Blue</td>\n",
       "      <td></td>\n",
       "      <td>50MP Dual Rear Camera</td>\n",
       "      <td>17.04 cm (6.71 inch) HD+ Display</td>\n",
       "      <td></td>\n",
       "      <td></td>\n",
       "      <td>5000 mAh Battery</td>\n",
       "      <td>₹8,499</td>\n",
       "    </tr>\n",
       "    <tr>\n",
       "      <th>4</th>\n",
       "      <td>realme C33 2023 (Night Sea, 64 GB)  (4 GB RAM)</td>\n",
       "      <td>C33 2023</td>\n",
       "      <td>Night Sea</td>\n",
       "      <td></td>\n",
       "      <td>50MP + 0.3MP</td>\n",
       "      <td>16.51 cm (6.5 inch) HD+ Display</td>\n",
       "      <td></td>\n",
       "      <td></td>\n",
       "      <td>5000 mAh Lithium Ion Battery</td>\n",
       "      <td>₹9,999</td>\n",
       "    </tr>\n",
       "    <tr>\n",
       "      <th>5</th>\n",
       "      <td>realme C33 2023 (Sandy Gold, 64 GB)  (4 GB RAM)</td>\n",
       "      <td>C33 2023</td>\n",
       "      <td>Sandy Gold</td>\n",
       "      <td></td>\n",
       "      <td>50MP + 0.3MP</td>\n",
       "      <td>16.51 cm (6.5 inch) HD+ Display</td>\n",
       "      <td></td>\n",
       "      <td></td>\n",
       "      <td>5000 mAh Lithium Ion Battery</td>\n",
       "      <td>₹9,999</td>\n",
       "    </tr>\n",
       "    <tr>\n",
       "      <th>6</th>\n",
       "      <td>realme C33 2023 (Aqua Blue, 64 GB)  (4 GB RAM)</td>\n",
       "      <td>C33 2023</td>\n",
       "      <td>Aqua Blue</td>\n",
       "      <td></td>\n",
       "      <td>50MP + 0.3MP</td>\n",
       "      <td>16.51 cm (6.5 inch) HD+ Display</td>\n",
       "      <td></td>\n",
       "      <td></td>\n",
       "      <td>5000 mAh Lithium Ion Battery</td>\n",
       "      <td>₹9,999</td>\n",
       "    </tr>\n",
       "    <tr>\n",
       "      <th>7</th>\n",
       "      <td>realme C33 (Aqua Blue, 32 GB)  (3 GB RAM)</td>\n",
       "      <td>C33</td>\n",
       "      <td>Aqua Blue</td>\n",
       "      <td></td>\n",
       "      <td>50MP + 0.3MP</td>\n",
       "      <td>16.51 cm (6.5 inch) HD+ Display</td>\n",
       "      <td></td>\n",
       "      <td></td>\n",
       "      <td>5000 mAh Lithium Ion Battery</td>\n",
       "      <td>₹8,999</td>\n",
       "    </tr>\n",
       "    <tr>\n",
       "      <th>8</th>\n",
       "      <td>realme C33 (Sandy Gold, 32 GB)  (3 GB RAM)</td>\n",
       "      <td>C33</td>\n",
       "      <td>Sandy Gold</td>\n",
       "      <td></td>\n",
       "      <td>50MP + 0.3MP</td>\n",
       "      <td>16.51 cm (6.5 inch) HD+ Display</td>\n",
       "      <td></td>\n",
       "      <td></td>\n",
       "      <td>5000 mAh Lithium Ion Battery</td>\n",
       "      <td>₹8,999</td>\n",
       "    </tr>\n",
       "    <tr>\n",
       "      <th>9</th>\n",
       "      <td>POCO C51 (Royal Blue, 64 GB)  (4 GB RAM)</td>\n",
       "      <td>C51</td>\n",
       "      <td>Royal Blue</td>\n",
       "      <td></td>\n",
       "      <td>8MP Dual Rear Camera</td>\n",
       "      <td>16.56 cm (6.52 inch) HD+ Display</td>\n",
       "      <td></td>\n",
       "      <td></td>\n",
       "      <td>5000 mAh Battery</td>\n",
       "      <td>₹7,249</td>\n",
       "    </tr>\n",
       "    <tr>\n",
       "      <th>10</th>\n",
       "      <td>SAMSUNG Galaxy M04 (Light Green, 64 GB)  (4 GB...</td>\n",
       "      <td>Galaxy M04</td>\n",
       "      <td>Light Green</td>\n",
       "      <td></td>\n",
       "      <td>13MP + 2MP</td>\n",
       "      <td>16.51 cm (6.5 inch) HD+ Display</td>\n",
       "      <td></td>\n",
       "      <td></td>\n",
       "      <td>5000 mAh Battery</td>\n",
       "      <td>₹8,073</td>\n",
       "    </tr>\n",
       "    <tr>\n",
       "      <th>11</th>\n",
       "      <td>SAMSUNG Galaxy F13 (Nightsky Green, 64 GB)  (4...</td>\n",
       "      <td>Galaxy F13</td>\n",
       "      <td>Nightsky Green</td>\n",
       "      <td></td>\n",
       "      <td>50MP + 5MP + 2MP</td>\n",
       "      <td>16.76 cm (6.6 inch) Full HD+ Display</td>\n",
       "      <td></td>\n",
       "      <td></td>\n",
       "      <td>6000 mAh Lithium Ion Battery</td>\n",
       "      <td>₹10,999</td>\n",
       "    </tr>\n",
       "    <tr>\n",
       "      <th>12</th>\n",
       "      <td>MOTOROLA e13 (Aurora Green, 64 GB)  (4 GB RAM)</td>\n",
       "      <td>e13</td>\n",
       "      <td>Aurora Green</td>\n",
       "      <td></td>\n",
       "      <td>13MP Rear Camera</td>\n",
       "      <td>16.51 cm (6.5 inch) HD+ Display</td>\n",
       "      <td></td>\n",
       "      <td></td>\n",
       "      <td>5000 mAh Battery</td>\n",
       "      <td>₹7,499</td>\n",
       "    </tr>\n",
       "    <tr>\n",
       "      <th>13</th>\n",
       "      <td>realme C33 (Aqua Blue, 64 GB)  (4 GB RAM)</td>\n",
       "      <td>C33</td>\n",
       "      <td>Aqua Blue</td>\n",
       "      <td></td>\n",
       "      <td>50MP + 0.3MP</td>\n",
       "      <td>16.51 cm (6.5 inch) HD+ Display</td>\n",
       "      <td></td>\n",
       "      <td></td>\n",
       "      <td>5000 mAh Lithium Ion Battery</td>\n",
       "      <td>₹9,999</td>\n",
       "    </tr>\n",
       "    <tr>\n",
       "      <th>14</th>\n",
       "      <td>realme C33 (Sandy Gold, 64 GB)  (4 GB RAM)</td>\n",
       "      <td>C33</td>\n",
       "      <td>Sandy Gold</td>\n",
       "      <td></td>\n",
       "      <td>50MP + 0.3MP</td>\n",
       "      <td>16.51 cm (6.5 inch) HD+ Display</td>\n",
       "      <td></td>\n",
       "      <td></td>\n",
       "      <td>5000 mAh Lithium Ion Battery</td>\n",
       "      <td>₹9,999</td>\n",
       "    </tr>\n",
       "    <tr>\n",
       "      <th>15</th>\n",
       "      <td>realme C33 (Night Sea, 64 GB)  (4 GB RAM)</td>\n",
       "      <td>C33</td>\n",
       "      <td>Night Sea</td>\n",
       "      <td></td>\n",
       "      <td>50MP + 0.3MP</td>\n",
       "      <td>16.51 cm (6.5 inch) HD+ Display</td>\n",
       "      <td></td>\n",
       "      <td></td>\n",
       "      <td>5000 mAh Lithium Ion Battery</td>\n",
       "      <td>₹9,999</td>\n",
       "    </tr>\n",
       "    <tr>\n",
       "      <th>16</th>\n",
       "      <td>realme C33 (Night Sea, 32 GB)  (3 GB RAM)</td>\n",
       "      <td>C33</td>\n",
       "      <td>Night Sea</td>\n",
       "      <td></td>\n",
       "      <td>50MP + 0.3MP</td>\n",
       "      <td>16.51 cm (6.5 inch) HD+ Display</td>\n",
       "      <td></td>\n",
       "      <td></td>\n",
       "      <td>5000 mAh Lithium Ion Battery</td>\n",
       "      <td>₹8,999</td>\n",
       "    </tr>\n",
       "    <tr>\n",
       "      <th>17</th>\n",
       "      <td>POCO C55 (Power Black, 128 GB)  (6 GB RAM)</td>\n",
       "      <td>C55</td>\n",
       "      <td>Power Black</td>\n",
       "      <td></td>\n",
       "      <td>50MP Dual Rear Camera</td>\n",
       "      <td>17.04 cm (6.71 inch) HD+ Display</td>\n",
       "      <td></td>\n",
       "      <td></td>\n",
       "      <td>5000 mAh Battery</td>\n",
       "      <td>₹9,499</td>\n",
       "    </tr>\n",
       "    <tr>\n",
       "      <th>18</th>\n",
       "      <td>REDMI 10 (Caribbean Green, 64 GB)  (4 GB RAM)</td>\n",
       "      <td>10</td>\n",
       "      <td>Caribbean Green</td>\n",
       "      <td></td>\n",
       "      <td>50MP + 2MP</td>\n",
       "      <td>17.02 cm (6.7 inch) HD+ Display</td>\n",
       "      <td></td>\n",
       "      <td></td>\n",
       "      <td>6000 mAh Lithium Polymer Battery</td>\n",
       "      <td>₹9,499</td>\n",
       "    </tr>\n",
       "    <tr>\n",
       "      <th>19</th>\n",
       "      <td>POCO C55 (Power Black, 64 GB)  (4 GB RAM)</td>\n",
       "      <td>C55</td>\n",
       "      <td>Power Black</td>\n",
       "      <td></td>\n",
       "      <td>50MP Dual Rear Camera</td>\n",
       "      <td>17.04 cm (6.71 inch) HD+ Display</td>\n",
       "      <td></td>\n",
       "      <td></td>\n",
       "      <td>5000 mAh Battery</td>\n",
       "      <td>₹8,499</td>\n",
       "    </tr>\n",
       "    <tr>\n",
       "      <th>20</th>\n",
       "      <td>POCO C55 (Forest Green, 128 GB)  (6 GB RAM)</td>\n",
       "      <td>C55</td>\n",
       "      <td>Forest Green</td>\n",
       "      <td></td>\n",
       "      <td>50MP Dual Rear Camera</td>\n",
       "      <td>17.04 cm (6.71 inch) HD+ Display</td>\n",
       "      <td></td>\n",
       "      <td></td>\n",
       "      <td>5000 mAh Battery</td>\n",
       "      <td>₹9,499</td>\n",
       "    </tr>\n",
       "    <tr>\n",
       "      <th>21</th>\n",
       "      <td>MOTOROLA G32 (Satin Silver, 128 GB)  (8 GB RAM)</td>\n",
       "      <td>G32</td>\n",
       "      <td>Satin Silver</td>\n",
       "      <td></td>\n",
       "      <td>50MP + 8MP + 2MP</td>\n",
       "      <td>16.64 cm (6.55 inch) Full HD+ Display</td>\n",
       "      <td></td>\n",
       "      <td></td>\n",
       "      <td>5000 mAh Battery</td>\n",
       "      <td>₹11,999</td>\n",
       "    </tr>\n",
       "    <tr>\n",
       "      <th>22</th>\n",
       "      <td>MOTOROLA G32 (Mineral Gray, 128 GB)  (8 GB RAM)</td>\n",
       "      <td>G32</td>\n",
       "      <td>Mineral Gray</td>\n",
       "      <td></td>\n",
       "      <td>50MP + 8MP + 2MP</td>\n",
       "      <td>16.64 cm (6.55 inch) Full HD+ Display</td>\n",
       "      <td></td>\n",
       "      <td></td>\n",
       "      <td>5000 mAh Battery</td>\n",
       "      <td>₹11,999</td>\n",
       "    </tr>\n",
       "    <tr>\n",
       "      <th>23</th>\n",
       "      <td>REDMI 10 (Caribbean Green, 128 GB)  (6 GB RAM)</td>\n",
       "      <td>10</td>\n",
       "      <td>Caribbean Green</td>\n",
       "      <td></td>\n",
       "      <td>50MP + 2MP</td>\n",
       "      <td>17.02 cm (6.7 inch) HD+ Display</td>\n",
       "      <td></td>\n",
       "      <td></td>\n",
       "      <td>6000 mAh Lithium Polymer Battery</td>\n",
       "      <td>₹10,999</td>\n",
       "    </tr>\n",
       "  </tbody>\n",
       "</table>\n",
       "</div>"
      ],
      "text/plain": [
       "                                                 name       Brand  \\\n",
       "0        REDMI 10 (Midnight Black, 64 GB)  (4 GB RAM)          10   \n",
       "1   SAMSUNG Galaxy F04 (Opal Green, 64 GB)  (4 GB ...  Galaxy F04   \n",
       "2            POCO C55 (Cool Blue, 128 GB)  (6 GB RAM)         C55   \n",
       "3             POCO C55 (Cool Blue, 64 GB)  (4 GB RAM)         C55   \n",
       "4      realme C33 2023 (Night Sea, 64 GB)  (4 GB RAM)    C33 2023   \n",
       "5     realme C33 2023 (Sandy Gold, 64 GB)  (4 GB RAM)    C33 2023   \n",
       "6      realme C33 2023 (Aqua Blue, 64 GB)  (4 GB RAM)    C33 2023   \n",
       "7           realme C33 (Aqua Blue, 32 GB)  (3 GB RAM)         C33   \n",
       "8          realme C33 (Sandy Gold, 32 GB)  (3 GB RAM)         C33   \n",
       "9            POCO C51 (Royal Blue, 64 GB)  (4 GB RAM)         C51   \n",
       "10  SAMSUNG Galaxy M04 (Light Green, 64 GB)  (4 GB...  Galaxy M04   \n",
       "11  SAMSUNG Galaxy F13 (Nightsky Green, 64 GB)  (4...  Galaxy F13   \n",
       "12     MOTOROLA e13 (Aurora Green, 64 GB)  (4 GB RAM)         e13   \n",
       "13          realme C33 (Aqua Blue, 64 GB)  (4 GB RAM)         C33   \n",
       "14         realme C33 (Sandy Gold, 64 GB)  (4 GB RAM)         C33   \n",
       "15          realme C33 (Night Sea, 64 GB)  (4 GB RAM)         C33   \n",
       "16          realme C33 (Night Sea, 32 GB)  (3 GB RAM)         C33   \n",
       "17         POCO C55 (Power Black, 128 GB)  (6 GB RAM)         C55   \n",
       "18      REDMI 10 (Caribbean Green, 64 GB)  (4 GB RAM)          10   \n",
       "19          POCO C55 (Power Black, 64 GB)  (4 GB RAM)         C55   \n",
       "20        POCO C55 (Forest Green, 128 GB)  (6 GB RAM)         C55   \n",
       "21    MOTOROLA G32 (Satin Silver, 128 GB)  (8 GB RAM)         G32   \n",
       "22    MOTOROLA G32 (Mineral Gray, 128 GB)  (8 GB RAM)         G32   \n",
       "23     REDMI 10 (Caribbean Green, 128 GB)  (6 GB RAM)          10   \n",
       "\n",
       "             colour ram                  camera  \\\n",
       "0    Midnight Black                 50MP + 2MP    \n",
       "1        Opal Green                 13MP + 2MP    \n",
       "2         Cool Blue      50MP Dual Rear Camera    \n",
       "3         Cool Blue      50MP Dual Rear Camera    \n",
       "4         Night Sea               50MP + 0.3MP    \n",
       "5        Sandy Gold               50MP + 0.3MP    \n",
       "6         Aqua Blue               50MP + 0.3MP    \n",
       "7         Aqua Blue               50MP + 0.3MP    \n",
       "8        Sandy Gold               50MP + 0.3MP    \n",
       "9        Royal Blue       8MP Dual Rear Camera    \n",
       "10      Light Green                 13MP + 2MP    \n",
       "11   Nightsky Green           50MP + 5MP + 2MP    \n",
       "12     Aurora Green           13MP Rear Camera    \n",
       "13        Aqua Blue               50MP + 0.3MP    \n",
       "14       Sandy Gold               50MP + 0.3MP    \n",
       "15        Night Sea               50MP + 0.3MP    \n",
       "16        Night Sea               50MP + 0.3MP    \n",
       "17      Power Black      50MP Dual Rear Camera    \n",
       "18  Caribbean Green                 50MP + 2MP    \n",
       "19      Power Black      50MP Dual Rear Camera    \n",
       "20     Forest Green      50MP Dual Rear Camera    \n",
       "21     Satin Silver           50MP + 8MP + 2MP    \n",
       "22     Mineral Gray           50MP + 8MP + 2MP    \n",
       "23  Caribbean Green                 50MP + 2MP    \n",
       "\n",
       "                                  display storage secondary_camera  \\\n",
       "0         17.02 cm (6.7 inch) HD+ Display                            \n",
       "1          16.51 cm (6.5 inch) HD Display                            \n",
       "2        17.04 cm (6.71 inch) HD+ Display                            \n",
       "3        17.04 cm (6.71 inch) HD+ Display                            \n",
       "4         16.51 cm (6.5 inch) HD+ Display                            \n",
       "5         16.51 cm (6.5 inch) HD+ Display                            \n",
       "6         16.51 cm (6.5 inch) HD+ Display                            \n",
       "7         16.51 cm (6.5 inch) HD+ Display                            \n",
       "8         16.51 cm (6.5 inch) HD+ Display                            \n",
       "9        16.56 cm (6.52 inch) HD+ Display                            \n",
       "10        16.51 cm (6.5 inch) HD+ Display                            \n",
       "11   16.76 cm (6.6 inch) Full HD+ Display                            \n",
       "12        16.51 cm (6.5 inch) HD+ Display                            \n",
       "13        16.51 cm (6.5 inch) HD+ Display                            \n",
       "14        16.51 cm (6.5 inch) HD+ Display                            \n",
       "15        16.51 cm (6.5 inch) HD+ Display                            \n",
       "16        16.51 cm (6.5 inch) HD+ Display                            \n",
       "17       17.04 cm (6.71 inch) HD+ Display                            \n",
       "18        17.02 cm (6.7 inch) HD+ Display                            \n",
       "19       17.04 cm (6.71 inch) HD+ Display                            \n",
       "20       17.04 cm (6.71 inch) HD+ Display                            \n",
       "21  16.64 cm (6.55 inch) Full HD+ Display                            \n",
       "22  16.64 cm (6.55 inch) Full HD+ Display                            \n",
       "23        17.02 cm (6.7 inch) HD+ Display                            \n",
       "\n",
       "                             battery    price  \n",
       "0   6000 mAh Lithium Polymer Battery   ₹9,499  \n",
       "1       5000 mAh Lithium-Ion Battery   ₹8,499  \n",
       "2                   5000 mAh Battery   ₹9,499  \n",
       "3                   5000 mAh Battery   ₹8,499  \n",
       "4       5000 mAh Lithium Ion Battery   ₹9,999  \n",
       "5       5000 mAh Lithium Ion Battery   ₹9,999  \n",
       "6       5000 mAh Lithium Ion Battery   ₹9,999  \n",
       "7       5000 mAh Lithium Ion Battery   ₹8,999  \n",
       "8       5000 mAh Lithium Ion Battery   ₹8,999  \n",
       "9                   5000 mAh Battery   ₹7,249  \n",
       "10                  5000 mAh Battery   ₹8,073  \n",
       "11      6000 mAh Lithium Ion Battery  ₹10,999  \n",
       "12                  5000 mAh Battery   ₹7,499  \n",
       "13      5000 mAh Lithium Ion Battery   ₹9,999  \n",
       "14      5000 mAh Lithium Ion Battery   ₹9,999  \n",
       "15      5000 mAh Lithium Ion Battery   ₹9,999  \n",
       "16      5000 mAh Lithium Ion Battery   ₹8,999  \n",
       "17                  5000 mAh Battery   ₹9,499  \n",
       "18  6000 mAh Lithium Polymer Battery   ₹9,499  \n",
       "19                  5000 mAh Battery   ₹8,499  \n",
       "20                  5000 mAh Battery   ₹9,499  \n",
       "21                  5000 mAh Battery  ₹11,999  \n",
       "22                  5000 mAh Battery  ₹11,999  \n",
       "23  6000 mAh Lithium Polymer Battery  ₹10,999  "
      ]
     },
     "execution_count": 33,
     "metadata": {},
     "output_type": "execute_result"
    }
   ],
   "source": [
    "df=pd.DataFrame({'name':name,'Brand':brand,'colour':colour,'ram':ram,'camera':camera,'display':display,'storage':storage,'secondary_camera':secondary_camera,'battery':battery,'price':price})\n",
    "df"
   ]
  },
  {
   "cell_type": "code",
   "execution_count": null,
   "id": "974ff9ac",
   "metadata": {},
   "outputs": [],
   "source": [
    "#question no 5. Write a program to scrap geospatial coordinates (latitude, longitude) of a city searched on googlemaps"
   ]
  },
  {
   "cell_type": "code",
   "execution_count": 36,
   "id": "7b52a8dd",
   "metadata": {},
   "outputs": [],
   "source": [
    "driver.get(\"https://www.google.com/maps\")"
   ]
  },
  {
   "cell_type": "code",
   "execution_count": 38,
   "id": "9803c4e4",
   "metadata": {},
   "outputs": [],
   "source": [
    "search = driver.find_element(By.XPATH,\"//input[@class='tactile-searchbox-input']\")\n",
    "search.send_keys(\"Delhi\")"
   ]
  },
  {
   "cell_type": "code",
   "execution_count": 40,
   "id": "3d3b5eaf",
   "metadata": {},
   "outputs": [],
   "source": [
    "button = driver.find_element(By.XPATH,'/html/body/div[3]/div[9]/div[3]/div[1]/div[1]/div[1]/div[2]/div[1]/button')\n",
    "button.click()"
   ]
  },
  {
   "cell_type": "code",
   "execution_count": 41,
   "id": "186df4cf",
   "metadata": {},
   "outputs": [
    {
     "data": {
      "text/plain": [
       "'https://www.google.com/maps/place/Delhi/@28.6424934,76.4350969,9z/data=!3m1!4b1!4m6!3m5!1s0x390cfd5b347eb62d:0x37205b715389640!8m2!3d28.7040592!4d77.1024902!16zL20vMDlmMDc'"
      ]
     },
     "execution_count": 41,
     "metadata": {},
     "output_type": "execute_result"
    }
   ],
   "source": [
    "link = driver.current_url\n",
    "link"
   ]
  },
  {
   "cell_type": "code",
   "execution_count": 43,
   "id": "ee5246ac",
   "metadata": {},
   "outputs": [],
   "source": [
    "import re"
   ]
  },
  {
   "cell_type": "code",
   "execution_count": 44,
   "id": "05eb9dc0",
   "metadata": {},
   "outputs": [
    {
     "data": {
      "text/plain": [
       "['https',\n",
       " '',\n",
       " '',\n",
       " 'www.google.com',\n",
       " 'maps',\n",
       " 'place',\n",
       " 'Delhi',\n",
       " '',\n",
       " '28.6424934',\n",
       " '76.4350969',\n",
       " '9z',\n",
       " 'data=',\n",
       " '3m1',\n",
       " '4b1',\n",
       " '4m6',\n",
       " '3m5',\n",
       " '1s0x390cfd5b347eb62d',\n",
       " '0x37205b715389640',\n",
       " '8m2',\n",
       " '3d28.7040592',\n",
       " '4d77.1024902',\n",
       " '16zL20vMDlmMDc']"
      ]
     },
     "execution_count": 44,
     "metadata": {},
     "output_type": "execute_result"
    }
   ],
   "source": [
    "tokens = re.split(':|/|@|!|,',link)\n",
    "tokens"
   ]
  },
  {
   "cell_type": "code",
   "execution_count": 45,
   "id": "80fe121e",
   "metadata": {},
   "outputs": [
    {
     "data": {
      "text/plain": [
       "'Delhi'"
      ]
     },
     "execution_count": 45,
     "metadata": {},
     "output_type": "execute_result"
    }
   ],
   "source": [
    "City = tokens[6]\n",
    "City"
   ]
  },
  {
   "cell_type": "code",
   "execution_count": 46,
   "id": "87a86619",
   "metadata": {},
   "outputs": [
    {
     "data": {
      "text/plain": [
       "'28.6424934'"
      ]
     },
     "execution_count": 46,
     "metadata": {},
     "output_type": "execute_result"
    }
   ],
   "source": [
    "Latitude = tokens[8]\n",
    "Latitude"
   ]
  },
  {
   "cell_type": "code",
   "execution_count": 47,
   "id": "c4d17e8c",
   "metadata": {},
   "outputs": [
    {
     "data": {
      "text/plain": [
       "'76.4350969'"
      ]
     },
     "execution_count": 47,
     "metadata": {},
     "output_type": "execute_result"
    }
   ],
   "source": [
    "Longitude = tokens[9]\n",
    "Longitude"
   ]
  },
  {
   "cell_type": "code",
   "execution_count": 48,
   "id": "64b1bffe",
   "metadata": {},
   "outputs": [],
   "source": [
    "data = [['Delhi',Longitude, Latitude]]"
   ]
  },
  {
   "cell_type": "code",
   "execution_count": 49,
   "id": "1f968131",
   "metadata": {},
   "outputs": [],
   "source": [
    "Coordinates = pd.DataFrame(data, columns = ['City','Longitude','Latitude'])"
   ]
  },
  {
   "cell_type": "code",
   "execution_count": 50,
   "id": "1cddaef7",
   "metadata": {},
   "outputs": [
    {
     "data": {
      "text/html": [
       "<div>\n",
       "<style scoped>\n",
       "    .dataframe tbody tr th:only-of-type {\n",
       "        vertical-align: middle;\n",
       "    }\n",
       "\n",
       "    .dataframe tbody tr th {\n",
       "        vertical-align: top;\n",
       "    }\n",
       "\n",
       "    .dataframe thead th {\n",
       "        text-align: right;\n",
       "    }\n",
       "</style>\n",
       "<table border=\"1\" class=\"dataframe\">\n",
       "  <thead>\n",
       "    <tr style=\"text-align: right;\">\n",
       "      <th></th>\n",
       "      <th>City</th>\n",
       "      <th>Longitude</th>\n",
       "      <th>Latitude</th>\n",
       "    </tr>\n",
       "  </thead>\n",
       "  <tbody>\n",
       "    <tr>\n",
       "      <th>0</th>\n",
       "      <td>Delhi</td>\n",
       "      <td>76.4350969</td>\n",
       "      <td>28.6424934</td>\n",
       "    </tr>\n",
       "  </tbody>\n",
       "</table>\n",
       "</div>"
      ],
      "text/plain": [
       "    City   Longitude    Latitude\n",
       "0  Delhi  76.4350969  28.6424934"
      ]
     },
     "execution_count": 50,
     "metadata": {},
     "output_type": "execute_result"
    }
   ],
   "source": [
    "Coordinates"
   ]
  },
  {
   "cell_type": "code",
   "execution_count": null,
   "id": "e3afc3b2",
   "metadata": {},
   "outputs": [],
   "source": [
    "#Question no 6. Write a program to scrap details of all the funding deals for second quarter (i.e Jan 21 – March 21) \n",
    "from trak.in"
   ]
  },
  {
   "cell_type": "code",
   "execution_count": null,
   "id": "c187504c",
   "metadata": {},
   "outputs": [],
   "source": [
    "Unable to do as there is an error on trak.in"
   ]
  },
  {
   "cell_type": "code",
   "execution_count": null,
   "id": "576aba6a",
   "metadata": {},
   "outputs": [],
   "source": [
    "#Question no 7. Write a program to scrap all the available details of best gaming laptops from digit.in"
   ]
  },
  {
   "cell_type": "code",
   "execution_count": 51,
   "id": "401e0fe3",
   "metadata": {},
   "outputs": [],
   "source": [
    "driver.get('https://www.digit.in/')"
   ]
  },
  {
   "cell_type": "code",
   "execution_count": 53,
   "id": "d466f922",
   "metadata": {},
   "outputs": [],
   "source": [
    "laptop=driver.find_element(By.XPATH,'/html/body/div[2]/div/ul/li[2]/span')\n",
    "laptop.click()"
   ]
  },
  {
   "cell_type": "code",
   "execution_count": 55,
   "id": "3e301e01",
   "metadata": {},
   "outputs": [],
   "source": [
    "laptops=driver.find_element(By.XPATH,'/html/body/div[2]/div/ul/li[7]/div/div/div[2]/div/ul[1]/li[2]/a')\n",
    "laptops.click()"
   ]
  },
  {
   "cell_type": "code",
   "execution_count": 56,
   "id": "1f1b3dc1",
   "metadata": {},
   "outputs": [],
   "source": [
    "laptops=driver.find_element(By.XPATH,'/html/body/div[7]/div/div/div[2]/div[1]/ul/li[9]/a')\n",
    "laptops.click()"
   ]
  },
  {
   "cell_type": "code",
   "execution_count": null,
   "id": "6e653fe4",
   "metadata": {},
   "outputs": [],
   "source": [
    "#Question number 8. Write a python program to scrape the details for all billionaires from www.forbes.com. Details to be \n",
    "scrapped: “Rank”, “Name”, “Net worth”, “Age”, “Citizenship”, “Source”, “Industry”."
   ]
  },
  {
   "cell_type": "code",
   "execution_count": 2,
   "id": "98deb957",
   "metadata": {},
   "outputs": [],
   "source": [
    "import selenium\n",
    "import pandas as pd\n",
    "from selenium import webdriver\n",
    "import warnings\n",
    "warnings.filterwarnings(\"ignore\")     \n",
    "from selenium.webdriver.common.by import By \n",
    "import time"
   ]
  },
  {
   "cell_type": "code",
   "execution_count": 3,
   "id": "6d6832b1",
   "metadata": {},
   "outputs": [],
   "source": [
    "from selenium.common.exceptions import  StaleElementReferenceException, NoSuchElementException"
   ]
  },
  {
   "cell_type": "code",
   "execution_count": 4,
   "id": "ec548bbd",
   "metadata": {},
   "outputs": [],
   "source": [
    "driver = webdriver.Chrome(r\"D:\\Downloads\\chromedriver_win32\\chromedriver.exe\")"
   ]
  },
  {
   "cell_type": "code",
   "execution_count": 5,
   "id": "dd489cea",
   "metadata": {},
   "outputs": [],
   "source": [
    "driver.get('https://www.forbes.com/billionaires/')"
   ]
  },
  {
   "cell_type": "code",
   "execution_count": 12,
   "id": "d0975fc1",
   "metadata": {},
   "outputs": [],
   "source": [
    "rank=[]\n",
    "name=[]\n",
    "worth=[]\n",
    "age=[]\n",
    "citizenship=[]\n",
    "source=[]\n",
    "industry=[]"
   ]
  },
  {
   "cell_type": "code",
   "execution_count": 13,
   "id": "c81bf84b",
   "metadata": {},
   "outputs": [],
   "source": [
    "try:\n",
    "    rank_tags=driver.find_elements(By.XPATH,'//div[1][@class=\"TableRow_cell__db-hv Table_cell__houv9\"]')\n",
    "    for i in rank_tags:\n",
    "        rank.append(i.text)\n",
    "        \n",
    "except NoSuchElementException:\n",
    "         rank.append('No details')\n",
    "        \n",
    "try:\n",
    "    \n",
    "    name_tags=driver.find_elements(By.XPATH,'//div[2][@class=\"TableRow_cell__db-hv Table_cell__houv9\"]')\n",
    "    for i in name_tags:\n",
    "         name.append(i.text)\n",
    "            \n",
    "except NoSuchElementException:\n",
    "    name.append('No details')\n",
    "    \n",
    "try:\n",
    "    worth_tags=driver.find_elements(By.XPATH,'//div[@class=\"Table_netWorth___L4R5 Table_dataCell__2QCve\"]')\n",
    "    for i in worth_tags:\n",
    "        worth.append(i.text)\n",
    "        \n",
    "except NoSuchElementException:\n",
    "         worth.append('No details')\n",
    "        \n",
    "try:\n",
    "    age_tags=driver.find_elements(By.XPATH,'//div[4][@class=\"TableRow_cell__db-hv Table_cell__houv9\"]')\n",
    "    for i in age_tags:\n",
    "        age.append(i.text)\n",
    "        \n",
    "except NoSuchElementException:\n",
    "    age.append('No details')\n",
    "    \n",
    "\n",
    "try:\n",
    "    citizenship_tags=driver.find_elements(By.XPATH,'//div[5][@class=\"TableRow_cell__db-hv Table_cell__houv9\"]')\n",
    "    for i in citizenship_tags:\n",
    "        citizenship.append(i.text)\n",
    "\n",
    "except NoSuchElementException:\n",
    "    citizenship.append('No details')      \n",
    "    \n",
    "    \n",
    "try:\n",
    "    source_tags=driver.find_elements(By.XPATH,'//div[6][@class=\"TableRow_cell__db-hv Table_cell__houv9\"]/div')\n",
    "    for i in citizenship_tags:\n",
    "        source.append(i.text)\n",
    "        \n",
    "except NoSuchElementException:\n",
    "    source.append(i.text)\n",
    "    \n",
    "\n",
    "try:\n",
    "    industry_tags=driver.find_elements(By.XPATH,'//div[7][@class=\"TableRow_cell__db-hv Table_cell__houv9\"]/div')\n",
    "    for i in industry_tags:\n",
    "        industry.append(i.text)\n",
    "        \n",
    "except NoSuchElementException:\n",
    "    industry.append(i.text)"
   ]
  },
  {
   "cell_type": "code",
   "execution_count": 14,
   "id": "78d182b2",
   "metadata": {},
   "outputs": [
    {
     "name": "stdout",
     "output_type": "stream",
     "text": [
      "200 200 200 200 200 199\n"
     ]
    }
   ],
   "source": [
    "print(len(name),len(worth),len(age),len(citizenship),len(source),len(industry))"
   ]
  },
  {
   "cell_type": "code",
   "execution_count": 16,
   "id": "8ad7d45a",
   "metadata": {},
   "outputs": [
    {
     "data": {
      "text/html": [
       "<div>\n",
       "<style scoped>\n",
       "    .dataframe tbody tr th:only-of-type {\n",
       "        vertical-align: middle;\n",
       "    }\n",
       "\n",
       "    .dataframe tbody tr th {\n",
       "        vertical-align: top;\n",
       "    }\n",
       "\n",
       "    .dataframe thead th {\n",
       "        text-align: right;\n",
       "    }\n",
       "</style>\n",
       "<table border=\"1\" class=\"dataframe\">\n",
       "  <thead>\n",
       "    <tr style=\"text-align: right;\">\n",
       "      <th></th>\n",
       "      <th>NAME OF BILLIONER</th>\n",
       "      <th>NET WORTH</th>\n",
       "      <th>AGE</th>\n",
       "      <th>CITIZENSHIP</th>\n",
       "      <th>SOURCE</th>\n",
       "    </tr>\n",
       "  </thead>\n",
       "  <tbody>\n",
       "    <tr>\n",
       "      <th>0</th>\n",
       "      <td>$211 B</td>\n",
       "      <td>$211 B</td>\n",
       "      <td>France</td>\n",
       "      <td></td>\n",
       "      <td></td>\n",
       "    </tr>\n",
       "    <tr>\n",
       "      <th>1</th>\n",
       "      <td>Elon Musk</td>\n",
       "      <td>$180 B</td>\n",
       "      <td>51</td>\n",
       "      <td>United States</td>\n",
       "      <td>United States</td>\n",
       "    </tr>\n",
       "    <tr>\n",
       "      <th>2</th>\n",
       "      <td>Jeff Bezos</td>\n",
       "      <td>$114 B</td>\n",
       "      <td>59</td>\n",
       "      <td>United States</td>\n",
       "      <td>United States</td>\n",
       "    </tr>\n",
       "    <tr>\n",
       "      <th>3</th>\n",
       "      <td>Larry Ellison</td>\n",
       "      <td>$107 B</td>\n",
       "      <td>78</td>\n",
       "      <td>United States</td>\n",
       "      <td>United States</td>\n",
       "    </tr>\n",
       "    <tr>\n",
       "      <th>4</th>\n",
       "      <td>Warren Buffett</td>\n",
       "      <td>$106 B</td>\n",
       "      <td>92</td>\n",
       "      <td>United States</td>\n",
       "      <td>United States</td>\n",
       "    </tr>\n",
       "    <tr>\n",
       "      <th>...</th>\n",
       "      <td>...</td>\n",
       "      <td>...</td>\n",
       "      <td>...</td>\n",
       "      <td>...</td>\n",
       "      <td>...</td>\n",
       "    </tr>\n",
       "    <tr>\n",
       "      <th>195</th>\n",
       "      <td>Jin Baofang</td>\n",
       "      <td>$9.6 B</td>\n",
       "      <td>70</td>\n",
       "      <td>China</td>\n",
       "      <td>China</td>\n",
       "    </tr>\n",
       "    <tr>\n",
       "      <th>196</th>\n",
       "      <td>Luo Liguo &amp; family</td>\n",
       "      <td>$9.6 B</td>\n",
       "      <td>67</td>\n",
       "      <td>China</td>\n",
       "      <td>China</td>\n",
       "    </tr>\n",
       "    <tr>\n",
       "      <th>197</th>\n",
       "      <td>Marijke Mars</td>\n",
       "      <td>$9.6 B</td>\n",
       "      <td>58</td>\n",
       "      <td>United States</td>\n",
       "      <td>United States</td>\n",
       "    </tr>\n",
       "    <tr>\n",
       "      <th>198</th>\n",
       "      <td>Pamela Mars</td>\n",
       "      <td>$9.6 B</td>\n",
       "      <td>62</td>\n",
       "      <td>United States</td>\n",
       "      <td>United States</td>\n",
       "    </tr>\n",
       "    <tr>\n",
       "      <th>199</th>\n",
       "      <td>Valerie Mars</td>\n",
       "      <td>$9.6 B</td>\n",
       "      <td>64</td>\n",
       "      <td>United States</td>\n",
       "      <td>United States</td>\n",
       "    </tr>\n",
       "  </tbody>\n",
       "</table>\n",
       "<p>200 rows × 5 columns</p>\n",
       "</div>"
      ],
      "text/plain": [
       "      NAME OF BILLIONER NET WORTH     AGE    CITIZENSHIP         SOURCE\n",
       "0                $211 B    $211 B  France                              \n",
       "1             Elon Musk    $180 B      51  United States  United States\n",
       "2            Jeff Bezos    $114 B      59  United States  United States\n",
       "3         Larry Ellison    $107 B      78  United States  United States\n",
       "4        Warren Buffett    $106 B      92  United States  United States\n",
       "..                  ...       ...     ...            ...            ...\n",
       "195         Jin Baofang    $9.6 B      70          China          China\n",
       "196  Luo Liguo & family    $9.6 B      67          China          China\n",
       "197        Marijke Mars    $9.6 B      58  United States  United States\n",
       "198         Pamela Mars    $9.6 B      62  United States  United States\n",
       "199        Valerie Mars    $9.6 B      64  United States  United States\n",
       "\n",
       "[200 rows x 5 columns]"
      ]
     },
     "execution_count": 16,
     "metadata": {},
     "output_type": "execute_result"
    }
   ],
   "source": [
    "df=pd.DataFrame({'NAME OF BILLIONER':name,'NET WORTH':worth,'AGE':age,'CITIZENSHIP':citizenship,'SOURCE':source})\n",
    "df"
   ]
  },
  {
   "cell_type": "code",
   "execution_count": 17,
   "id": "4a14dad3",
   "metadata": {},
   "outputs": [],
   "source": [
    "driver.close()"
   ]
  },
  {
   "cell_type": "code",
   "execution_count": null,
   "id": "abfed2eb",
   "metadata": {},
   "outputs": [],
   "source": [
    "#Question no 10 Write a python program to scrape a data for all available Hostels from https://www.hostelworld.com/ in \n",
    "“London” location. You have to scrape hostel name, distance from city centre, ratings, total reviews, \n",
    "overall reviews, privates from price, dorms from price, facilities and property description"
   ]
  },
  {
   "cell_type": "code",
   "execution_count": 26,
   "id": "9b50d6ab",
   "metadata": {},
   "outputs": [],
   "source": [
    "driver = webdriver.Chrome(r\"D:\\Downloads\\chromedriver_win32\\chromedriver.exe\")"
   ]
  },
  {
   "cell_type": "code",
   "execution_count": 27,
   "id": "f7446a01",
   "metadata": {},
   "outputs": [],
   "source": [
    "driver.get('https://www.hostelworld.com/')"
   ]
  },
  {
   "cell_type": "code",
   "execution_count": 28,
   "id": "7188819a",
   "metadata": {},
   "outputs": [],
   "source": [
    "search= driver.find_element(By.ID,'search-input-field')\n",
    "search.send_keys('London')"
   ]
  },
  {
   "cell_type": "code",
   "execution_count": 29,
   "id": "cebfa7a4",
   "metadata": {},
   "outputs": [],
   "source": [
    "find=driver.find_element(By.XPATH,'//ul[@id=\"predicted-search-results\"]/li[2]')\n",
    "find.click()"
   ]
  },
  {
   "cell_type": "code",
   "execution_count": 30,
   "id": "0c951d69",
   "metadata": {},
   "outputs": [],
   "source": [
    "let_go=driver.find_element(By.XPATH,'//div[@class=\"search-button\"]')\n",
    "let_go.click()"
   ]
  },
  {
   "cell_type": "code",
   "execution_count": 31,
   "id": "9560698a",
   "metadata": {},
   "outputs": [],
   "source": [
    "url=[]\n",
    "try:\n",
    "    url_tags=driver.find_elements(By.XPATH,'//h2[@class=\"title title-6\"]/a')\n",
    "    for i in url_tags:\n",
    "        url.append(i.get_attribute('href'))\n",
    "except NoSuchElementException:\n",
    "    url.append('No Details')"
   ]
  },
  {
   "cell_type": "code",
   "execution_count": 32,
   "id": "2d3bb0ca",
   "metadata": {},
   "outputs": [
    {
     "data": {
      "text/plain": [
       "['https://www.hostelworld.com/pwa/hosteldetails.php/Wombat-s-City-Hostel-London/London/88047?from=2023-05-19&to=2023-05-22&guests=2',\n",
       " 'https://www.hostelworld.com/pwa/hosteldetails.php/Hostel-One-Notting-Hill/London/291433?from=2023-05-19&to=2023-05-22&guests=2',\n",
       " 'https://www.hostelworld.com/pwa/hosteldetails.php/St-Christopher-s-Village/London/502?from=2023-05-19&to=2023-05-22&guests=2',\n",
       " 'https://www.hostelworld.com/pwa/hosteldetails.php/Generator-London/London/510?from=2023-05-19&to=2023-05-22&guests=2',\n",
       " 'https://www.hostelworld.com/pwa/hosteldetails.php/Urbany-Hostel-London/London/303427?from=2023-05-19&to=2023-05-22&guests=2',\n",
       " 'https://www.hostelworld.com/pwa/hosteldetails.php/Safestay-London-Elephant-Castle/London/55551?from=2023-05-19&to=2023-05-22&guests=2',\n",
       " 'https://www.hostelworld.com/pwa/hosteldetails.php/Astor-Museum-Inn/London/520?from=2023-05-19&to=2023-05-22&guests=2',\n",
       " 'https://www.hostelworld.com/pwa/hosteldetails.php/London-Backpackers/London/527?from=2023-05-19&to=2023-05-22&guests=2',\n",
       " 'https://www.hostelworld.com/pwa/hosteldetails.php/St-Christopher-s-Camden/London/505?from=2023-05-19&to=2023-05-22&guests=2',\n",
       " 'https://www.hostelworld.com/pwa/hosteldetails.php/St-Christopher-s-Hammersmith/London/20976?from=2023-05-19&to=2023-05-22&guests=2',\n",
       " 'https://www.hostelworld.com/pwa/hosteldetails.php/Queen-Elizabeth-Chelsea/London/50443?from=2023-05-19&to=2023-05-22&guests=2',\n",
       " 'https://www.hostelworld.com/pwa/hosteldetails.php/St-Christopher-s-Greenwich/London/501?from=2023-05-19&to=2023-05-22&guests=2',\n",
       " 'https://www.hostelworld.com/pwa/hosteldetails.php/Selina-Camden/London/310274?from=2023-05-19&to=2023-05-22&guests=2',\n",
       " 'https://www.hostelworld.com/pwa/hosteldetails.php/St-Christopher-s-Shepherds-Bush/London/506?from=2023-05-19&to=2023-05-22&guests=2',\n",
       " 'https://www.hostelworld.com/pwa/hosteldetails.php/Hostelle-London/London/316723?from=2023-05-19&to=2023-05-22&guests=2',\n",
       " 'https://www.hostelworld.com/pwa/hosteldetails.php/PubLove-The-Crown-Battersea/London/60336?from=2023-05-19&to=2023-05-22&guests=2',\n",
       " 'https://www.hostelworld.com/pwa/hosteldetails.php/PubLove-The-White-Ferry-Victoria/London/39761?from=2023-05-19&to=2023-05-22&guests=2',\n",
       " 'https://www.hostelworld.com/pwa/hosteldetails.php/Elmwood-Hotel/London/34338?from=2023-05-19&to=2023-05-22&guests=2',\n",
       " 'https://www.hostelworld.com/pwa/hosteldetails.php/PubLove-The-Rose-Crown/London/297123?from=2023-05-19&to=2023-05-22&guests=2',\n",
       " 'https://www.hostelworld.com/pwa/hosteldetails.php/PubLove-The-Exmouth-Arms-Euston/London/93796?from=2023-05-19&to=2023-05-22&guests=2',\n",
       " 'https://www.hostelworld.com/pwa/hosteldetails.php/PubLove-The-Green-Man-Paddington/London/21953?from=2023-05-19&to=2023-05-22&guests=2',\n",
       " 'https://www.hostelworld.com/pwa/hosteldetails.php/City-Hotel-Carlton/London/27551?from=2023-05-19&to=2023-05-22&guests=2',\n",
       " 'https://www.hostelworld.com/pwa/hosteldetails.php/Colliers-Hotel/London/308375?from=2023-05-19&to=2023-05-22&guests=2',\n",
       " 'https://www.hostelworld.com/pwa/hosteldetails.php/Beaconsfield/London/11708?from=2023-05-19&to=2023-05-22&guests=2',\n",
       " 'https://www.hostelworld.com/pwa/hosteldetails.php/Kip-Hotel/London/266789?from=2023-05-19&to=2023-05-22&guests=2',\n",
       " 'https://www.hostelworld.com/pwa/hosteldetails.php/Park-Hotel/London/295852?from=2023-05-19&to=2023-05-22&guests=2',\n",
       " 'https://www.hostelworld.com/pwa/hosteldetails.php/Budget-London-Apartments/London/11493?from=2023-05-19&to=2023-05-22&guests=2',\n",
       " 'https://www.hostelworld.com/pwa/hosteldetails.php/The-London-Home-Hostel/London/80690?from=2023-05-19&to=2023-05-22&guests=2']"
      ]
     },
     "execution_count": 32,
     "metadata": {},
     "output_type": "execute_result"
    }
   ],
   "source": [
    "url"
   ]
  },
  {
   "cell_type": "code",
   "execution_count": 33,
   "id": "33d58368",
   "metadata": {},
   "outputs": [
    {
     "name": "stdout",
     "output_type": "stream",
     "text": [
      "28\n"
     ]
    }
   ],
   "source": [
    "print(len(url))"
   ]
  },
  {
   "cell_type": "code",
   "execution_count": 34,
   "id": "6eb6567c",
   "metadata": {},
   "outputs": [],
   "source": [
    "hostel=[]\n",
    "distance=[]\n",
    "rating=[]\n",
    "total_review=[]\n",
    "overall_review=[]\n",
    "private_room=[]\n",
    "dorm_price=[]\n",
    "description=[]\n",
    "facility=[]"
   ]
  },
  {
   "cell_type": "code",
   "execution_count": 35,
   "id": "97606ffd",
   "metadata": {},
   "outputs": [],
   "source": [
    "for details in url:\n",
    "    driver.get(details)\n",
    "    time.sleep(5)\n",
    "    \n",
    "\n",
    "\n",
    "    try:\n",
    "        hostel_tags=driver.find_elements(By.XPATH,'//div[@class=\"title-2\"]')\n",
    "        for i in hostel_tags[0:27]:\n",
    "            hostel.append(i.text)\n",
    "    except NoSuchElementException:\n",
    "        hostel.append('No Details')\n",
    "\n",
    "    try:\n",
    "        distance_tags=driver.find_elements(By.XPATH,'//div[@class=\"content\"]/div')\n",
    "        for i in distance_tags[0:27]:\n",
    "            distance.append(i.text)\n",
    "    except NoSuchElementException:\n",
    "        distance.append('No Details')\n",
    "    \n",
    "    try:\n",
    "        rating_tags=driver.find_elements(By.XPATH,'//div[@class=\"initial-property-info\"]/div[1]/div[1]/div[1]')\n",
    "        for i in rating_tags[0:27]:\n",
    "            rating.append(i.text)\n",
    "        \n",
    "    except NoSuchElementException:\n",
    "        rating.append('No Details')\n",
    "    \n",
    "    try:\n",
    "        total_review_tags=driver.find_elements(By.XPATH,'//div[@class=\"initial-property-info\"]/div[1]/div[1]/div/div[2]')\n",
    "        for i in total_review_tags:\n",
    "            total_review.append(i.text.split(' ')[0])\n",
    "        \n",
    "    except NoSuchElementException:\n",
    "        total_review.append('No Details')\n",
    "    \n",
    "    \n",
    "    try:\n",
    "        review_tags=driver.find_elements(By.XPATH,'//div[@class=\"initial-property-info\"]/div[1]/div[1]/div/div[1]')\n",
    "        for i in review_tags:\n",
    "            overall_review.append(i.text)\n",
    "        \n",
    "    except NoSuchElementException:\n",
    "        overall_review.append('No Details')\n",
    "    \n",
    "# privte room pending\n",
    "    \n",
    "\n",
    "    try:\n",
    "        dorm_price_tags=driver.find_elements(By.XPATH,'//div[@class=\"availability-table\"]/div[2]/div[2]/div[2]/div[1]/div/div[1]/div[2]/div')\n",
    "        for i in dorm_price_tags:\n",
    "            dorm_price.append(i.text)\n",
    "    \n",
    "        \n",
    "    except NoSuchElementException:\n",
    "        dorm_price.append('No Details')\n",
    "    \n",
    "    try:\n",
    "        facility_tags= driver.find_elements(By.XPATH,'//div[@class=\"facilities-container\"]/ul/li[1]/ul')\n",
    "        for i in facility_tags:\n",
    "            facility.append(i.text)\n",
    "            \n",
    "    except NoSuchElementException:\n",
    "        facility.append('No Details')\n",
    "\n",
    "    try:\n",
    "        description_tags= driver.find_elements(By.XPATH,'//div[@class=\"flex-80\"]/div/div/div[2]')\n",
    "        for i in description_tags:\n",
    "            description.append(i.text)\n",
    "    except NoSuchElementException:\n",
    "        description.append('No Details')"
   ]
  },
  {
   "cell_type": "code",
   "execution_count": 36,
   "id": "49468e91",
   "metadata": {},
   "outputs": [
    {
     "name": "stdout",
     "output_type": "stream",
     "text": [
      "28 28 28 28 28 19 28 28\n"
     ]
    }
   ],
   "source": [
    "print(len(hostel),len(distance),len(rating),len( total_review),len(overall_review),len(dorm_price),len(facility),len(description))"
   ]
  },
  {
   "cell_type": "code",
   "execution_count": 42,
   "id": "374d2ff3",
   "metadata": {},
   "outputs": [],
   "source": [
    "hostel=hostel[0:15]\n",
    "distance=distance[0:15]\n",
    "rating=rating[0:15]\n",
    "total_review=total_review[0:15]\n",
    "overall_review=overall_review[0:15]\n",
    "dorm_price=dorm_price[0:15]\n",
    "facility=facility[0:15]"
   ]
  },
  {
   "cell_type": "code",
   "execution_count": 43,
   "id": "95fdb51e",
   "metadata": {},
   "outputs": [
    {
     "name": "stdout",
     "output_type": "stream",
     "text": [
      "15 15 15 15 15 15 15\n"
     ]
    }
   ],
   "source": [
    "print(len(hostel),len(distance),len(rating),len( total_review),len(overall_review),len(dorm_price),len(facility))"
   ]
  },
  {
   "cell_type": "code",
   "execution_count": 45,
   "id": "3cd8527c",
   "metadata": {},
   "outputs": [
    {
     "ename": "ValueError",
     "evalue": "All arrays must be of the same length",
     "output_type": "error",
     "traceback": [
      "\u001b[1;31m---------------------------------------------------------------------------\u001b[0m",
      "\u001b[1;31mValueError\u001b[0m                                Traceback (most recent call last)",
      "\u001b[1;32m~\\AppData\\Local\\Temp\\ipykernel_8760\\11953539.py\u001b[0m in \u001b[0;36m<module>\u001b[1;34m\u001b[0m\n\u001b[1;32m----> 1\u001b[1;33m \u001b[0mdf\u001b[0m\u001b[1;33m=\u001b[0m\u001b[0mpd\u001b[0m\u001b[1;33m.\u001b[0m\u001b[0mDataFrame\u001b[0m\u001b[1;33m(\u001b[0m\u001b[1;33m{\u001b[0m\u001b[1;34m'hostel'\u001b[0m\u001b[1;33m:\u001b[0m\u001b[0mhostel\u001b[0m\u001b[1;33m,\u001b[0m\u001b[1;34m'distance'\u001b[0m\u001b[1;33m:\u001b[0m\u001b[0mdistance\u001b[0m\u001b[1;33m,\u001b[0m\u001b[1;34m'rating'\u001b[0m\u001b[1;33m:\u001b[0m\u001b[0mrating\u001b[0m\u001b[1;33m,\u001b[0m\u001b[1;34m'total_review'\u001b[0m\u001b[1;33m:\u001b[0m\u001b[0mtotal_review\u001b[0m\u001b[1;33m,\u001b[0m\u001b[1;34m'overall_review'\u001b[0m\u001b[1;33m:\u001b[0m\u001b[0moverall_review\u001b[0m\u001b[1;33m,\u001b[0m\u001b[1;34m'facility'\u001b[0m\u001b[1;33m:\u001b[0m\u001b[0mfacility\u001b[0m\u001b[1;33m,\u001b[0m\u001b[1;34m'description'\u001b[0m\u001b[1;33m:\u001b[0m\u001b[0mdescription\u001b[0m\u001b[1;33m}\u001b[0m\u001b[1;33m)\u001b[0m\u001b[1;33m\u001b[0m\u001b[1;33m\u001b[0m\u001b[0m\n\u001b[0m\u001b[0;32m      2\u001b[0m \u001b[0mdf\u001b[0m\u001b[1;33m\u001b[0m\u001b[1;33m\u001b[0m\u001b[0m\n",
      "\u001b[1;32m~\\anaconda3\\lib\\site-packages\\pandas\\core\\frame.py\u001b[0m in \u001b[0;36m__init__\u001b[1;34m(self, data, index, columns, dtype, copy)\u001b[0m\n\u001b[0;32m    634\u001b[0m         \u001b[1;32melif\u001b[0m \u001b[0misinstance\u001b[0m\u001b[1;33m(\u001b[0m\u001b[0mdata\u001b[0m\u001b[1;33m,\u001b[0m \u001b[0mdict\u001b[0m\u001b[1;33m)\u001b[0m\u001b[1;33m:\u001b[0m\u001b[1;33m\u001b[0m\u001b[1;33m\u001b[0m\u001b[0m\n\u001b[0;32m    635\u001b[0m             \u001b[1;31m# GH#38939 de facto copy defaults to False only in non-dict cases\u001b[0m\u001b[1;33m\u001b[0m\u001b[1;33m\u001b[0m\u001b[0m\n\u001b[1;32m--> 636\u001b[1;33m             \u001b[0mmgr\u001b[0m \u001b[1;33m=\u001b[0m \u001b[0mdict_to_mgr\u001b[0m\u001b[1;33m(\u001b[0m\u001b[0mdata\u001b[0m\u001b[1;33m,\u001b[0m \u001b[0mindex\u001b[0m\u001b[1;33m,\u001b[0m \u001b[0mcolumns\u001b[0m\u001b[1;33m,\u001b[0m \u001b[0mdtype\u001b[0m\u001b[1;33m=\u001b[0m\u001b[0mdtype\u001b[0m\u001b[1;33m,\u001b[0m \u001b[0mcopy\u001b[0m\u001b[1;33m=\u001b[0m\u001b[0mcopy\u001b[0m\u001b[1;33m,\u001b[0m \u001b[0mtyp\u001b[0m\u001b[1;33m=\u001b[0m\u001b[0mmanager\u001b[0m\u001b[1;33m)\u001b[0m\u001b[1;33m\u001b[0m\u001b[1;33m\u001b[0m\u001b[0m\n\u001b[0m\u001b[0;32m    637\u001b[0m         \u001b[1;32melif\u001b[0m \u001b[0misinstance\u001b[0m\u001b[1;33m(\u001b[0m\u001b[0mdata\u001b[0m\u001b[1;33m,\u001b[0m \u001b[0mma\u001b[0m\u001b[1;33m.\u001b[0m\u001b[0mMaskedArray\u001b[0m\u001b[1;33m)\u001b[0m\u001b[1;33m:\u001b[0m\u001b[1;33m\u001b[0m\u001b[1;33m\u001b[0m\u001b[0m\n\u001b[0;32m    638\u001b[0m             \u001b[1;32mimport\u001b[0m \u001b[0mnumpy\u001b[0m\u001b[1;33m.\u001b[0m\u001b[0mma\u001b[0m\u001b[1;33m.\u001b[0m\u001b[0mmrecords\u001b[0m \u001b[1;32mas\u001b[0m \u001b[0mmrecords\u001b[0m\u001b[1;33m\u001b[0m\u001b[1;33m\u001b[0m\u001b[0m\n",
      "\u001b[1;32m~\\anaconda3\\lib\\site-packages\\pandas\\core\\internals\\construction.py\u001b[0m in \u001b[0;36mdict_to_mgr\u001b[1;34m(data, index, columns, dtype, typ, copy)\u001b[0m\n\u001b[0;32m    500\u001b[0m         \u001b[1;31m# TODO: can we get rid of the dt64tz special case above?\u001b[0m\u001b[1;33m\u001b[0m\u001b[1;33m\u001b[0m\u001b[0m\n\u001b[0;32m    501\u001b[0m \u001b[1;33m\u001b[0m\u001b[0m\n\u001b[1;32m--> 502\u001b[1;33m     \u001b[1;32mreturn\u001b[0m \u001b[0marrays_to_mgr\u001b[0m\u001b[1;33m(\u001b[0m\u001b[0marrays\u001b[0m\u001b[1;33m,\u001b[0m \u001b[0mcolumns\u001b[0m\u001b[1;33m,\u001b[0m \u001b[0mindex\u001b[0m\u001b[1;33m,\u001b[0m \u001b[0mdtype\u001b[0m\u001b[1;33m=\u001b[0m\u001b[0mdtype\u001b[0m\u001b[1;33m,\u001b[0m \u001b[0mtyp\u001b[0m\u001b[1;33m=\u001b[0m\u001b[0mtyp\u001b[0m\u001b[1;33m,\u001b[0m \u001b[0mconsolidate\u001b[0m\u001b[1;33m=\u001b[0m\u001b[0mcopy\u001b[0m\u001b[1;33m)\u001b[0m\u001b[1;33m\u001b[0m\u001b[1;33m\u001b[0m\u001b[0m\n\u001b[0m\u001b[0;32m    503\u001b[0m \u001b[1;33m\u001b[0m\u001b[0m\n\u001b[0;32m    504\u001b[0m \u001b[1;33m\u001b[0m\u001b[0m\n",
      "\u001b[1;32m~\\anaconda3\\lib\\site-packages\\pandas\\core\\internals\\construction.py\u001b[0m in \u001b[0;36marrays_to_mgr\u001b[1;34m(arrays, columns, index, dtype, verify_integrity, typ, consolidate)\u001b[0m\n\u001b[0;32m    118\u001b[0m         \u001b[1;31m# figure out the index, if necessary\u001b[0m\u001b[1;33m\u001b[0m\u001b[1;33m\u001b[0m\u001b[0m\n\u001b[0;32m    119\u001b[0m         \u001b[1;32mif\u001b[0m \u001b[0mindex\u001b[0m \u001b[1;32mis\u001b[0m \u001b[1;32mNone\u001b[0m\u001b[1;33m:\u001b[0m\u001b[1;33m\u001b[0m\u001b[1;33m\u001b[0m\u001b[0m\n\u001b[1;32m--> 120\u001b[1;33m             \u001b[0mindex\u001b[0m \u001b[1;33m=\u001b[0m \u001b[0m_extract_index\u001b[0m\u001b[1;33m(\u001b[0m\u001b[0marrays\u001b[0m\u001b[1;33m)\u001b[0m\u001b[1;33m\u001b[0m\u001b[1;33m\u001b[0m\u001b[0m\n\u001b[0m\u001b[0;32m    121\u001b[0m         \u001b[1;32melse\u001b[0m\u001b[1;33m:\u001b[0m\u001b[1;33m\u001b[0m\u001b[1;33m\u001b[0m\u001b[0m\n\u001b[0;32m    122\u001b[0m             \u001b[0mindex\u001b[0m \u001b[1;33m=\u001b[0m \u001b[0mensure_index\u001b[0m\u001b[1;33m(\u001b[0m\u001b[0mindex\u001b[0m\u001b[1;33m)\u001b[0m\u001b[1;33m\u001b[0m\u001b[1;33m\u001b[0m\u001b[0m\n",
      "\u001b[1;32m~\\anaconda3\\lib\\site-packages\\pandas\\core\\internals\\construction.py\u001b[0m in \u001b[0;36m_extract_index\u001b[1;34m(data)\u001b[0m\n\u001b[0;32m    672\u001b[0m             \u001b[0mlengths\u001b[0m \u001b[1;33m=\u001b[0m \u001b[0mlist\u001b[0m\u001b[1;33m(\u001b[0m\u001b[0mset\u001b[0m\u001b[1;33m(\u001b[0m\u001b[0mraw_lengths\u001b[0m\u001b[1;33m)\u001b[0m\u001b[1;33m)\u001b[0m\u001b[1;33m\u001b[0m\u001b[1;33m\u001b[0m\u001b[0m\n\u001b[0;32m    673\u001b[0m             \u001b[1;32mif\u001b[0m \u001b[0mlen\u001b[0m\u001b[1;33m(\u001b[0m\u001b[0mlengths\u001b[0m\u001b[1;33m)\u001b[0m \u001b[1;33m>\u001b[0m \u001b[1;36m1\u001b[0m\u001b[1;33m:\u001b[0m\u001b[1;33m\u001b[0m\u001b[1;33m\u001b[0m\u001b[0m\n\u001b[1;32m--> 674\u001b[1;33m                 \u001b[1;32mraise\u001b[0m \u001b[0mValueError\u001b[0m\u001b[1;33m(\u001b[0m\u001b[1;34m\"All arrays must be of the same length\"\u001b[0m\u001b[1;33m)\u001b[0m\u001b[1;33m\u001b[0m\u001b[1;33m\u001b[0m\u001b[0m\n\u001b[0m\u001b[0;32m    675\u001b[0m \u001b[1;33m\u001b[0m\u001b[0m\n\u001b[0;32m    676\u001b[0m             \u001b[1;32mif\u001b[0m \u001b[0mhave_dicts\u001b[0m\u001b[1;33m:\u001b[0m\u001b[1;33m\u001b[0m\u001b[1;33m\u001b[0m\u001b[0m\n",
      "\u001b[1;31mValueError\u001b[0m: All arrays must be of the same length"
     ]
    }
   ],
   "source": [
    "df=pd.DataFrame({'hostel':hostel,'distance':distance,'rating':rating,'total_review':total_review,'overall_review':overall_review,'facility':facility,'description':description})\n",
    "df"
   ]
  },
  {
   "cell_type": "code",
   "execution_count": null,
   "id": "d8808523",
   "metadata": {},
   "outputs": [],
   "source": [
    "#Question no 9 Write a program to extract at least 500 Comments, Comment upvote and time when comment was posted \n",
    "from any YouTube Video"
   ]
  },
  {
   "cell_type": "code",
   "execution_count": 46,
   "id": "5674c44b",
   "metadata": {},
   "outputs": [],
   "source": [
    "driver = webdriver.Chrome(r\"D:\\Downloads\\chromedriver_win32\\chromedriver.exe\")"
   ]
  },
  {
   "cell_type": "code",
   "execution_count": 47,
   "id": "9c223d77",
   "metadata": {},
   "outputs": [],
   "source": [
    "url = \"https://www.youtube.com/\"\n",
    "driver.get(url)\n",
    "time.sleep(2)"
   ]
  },
  {
   "cell_type": "code",
   "execution_count": 50,
   "id": "3e893b55",
   "metadata": {},
   "outputs": [],
   "source": [
    "search=driver.find_element(By.XPATH,'//input[@class=\"ytd-searchbox\"]')\n",
    "search.send_keys('Pushpa-2 trailor')"
   ]
  },
  {
   "cell_type": "code",
   "execution_count": 51,
   "id": "836c39b1",
   "metadata": {},
   "outputs": [],
   "source": [
    "find=driver.find_element(By.XPATH,'//button[@class=\"style-scope ytd-searchbox\"]')\n",
    "find.click()"
   ]
  },
  {
   "cell_type": "code",
   "execution_count": 52,
   "id": "4af2fce2",
   "metadata": {},
   "outputs": [],
   "source": [
    "trailor=driver.find_element(By.XPATH,'//a[@class=\"yt-simple-endpoint style-scope ytd-video-renderer\"]')\n",
    "trailor.click()"
   ]
  },
  {
   "cell_type": "code",
   "execution_count": 53,
   "id": "aa0b7631",
   "metadata": {},
   "outputs": [],
   "source": [
    "comment=[]\n",
    "vote=[]\n",
    "time=[]"
   ]
  },
  {
   "cell_type": "code",
   "execution_count": 59,
   "id": "60e79e3b",
   "metadata": {},
   "outputs": [],
   "source": [
    "for _ in range(20):\n",
    "    driver.execute_script(\"window.scrollBy(0,1000)\")\n",
    "    \n",
    "    comment_tags=driver.find_elements(By.XPATH,'//yt-formatted-string[@class=\"style-scope ytd-comment-renderer\"]')\n",
    "    \n",
    "    try:\n",
    "        comment_tags=driver.find_elements(By.XPATH,'//yt-formatted-string[@class=\"style-scope ytd-comment-renderer\"]')\n",
    "        for i in comment_tags[0:500]:\n",
    "            comment.append(i.text)\n",
    "    \n",
    "    except NoSuchElementException:\n",
    "         comment.append('No details')\n",
    "            \n",
    "    try:\n",
    "        vote_tags=driver.find_elements(By.XPATH,'//span[@id=\"vote-count-middle\"]')\n",
    "        for i in vote_tags[0:500]:\n",
    "            vote.append(i.text)\n",
    "            \n",
    "    except NoSuchElementException:\n",
    "         vote.append('No details')\n",
    "            \n",
    "            \n",
    "    try:\n",
    "        time_tags= driver.find_elements(By.XPATH,'//yt-formatted-string[@class=\"published-time-text style-scope ytd-comment-renderer\"]')\n",
    "        for i in time_tags[0:500]:\n",
    "            time.append(i.text)\n",
    "            \n",
    "    except NoSuchElementException:\n",
    "         time.append('No details')"
   ]
  },
  {
   "cell_type": "code",
   "execution_count": 55,
   "id": "71803416",
   "metadata": {},
   "outputs": [
    {
     "name": "stdout",
     "output_type": "stream",
     "text": [
      "812 900 900\n"
     ]
    }
   ],
   "source": [
    "print(len(comment),len(vote),len(time))"
   ]
  },
  {
   "cell_type": "code",
   "execution_count": null,
   "id": "ed0f0967",
   "metadata": {},
   "outputs": [],
   "source": []
  }
 ],
 "metadata": {
  "kernelspec": {
   "display_name": "Python 3 (ipykernel)",
   "language": "python",
   "name": "python3"
  },
  "language_info": {
   "codemirror_mode": {
    "name": "ipython",
    "version": 3
   },
   "file_extension": ".py",
   "mimetype": "text/x-python",
   "name": "python",
   "nbconvert_exporter": "python",
   "pygments_lexer": "ipython3",
   "version": "3.9.13"
  }
 },
 "nbformat": 4,
 "nbformat_minor": 5
}
