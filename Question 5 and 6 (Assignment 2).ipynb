{
 "cells": [
  {
   "cell_type": "code",
   "execution_count": null,
   "id": "38061277",
   "metadata": {},
   "outputs": [],
   "source": [
    "#Q5: Scrape 100 reviews data from flipkart.com for iphone11 phone. You have to go the link: \n",
    "https://www.flipkart.com/apple-iphone-11-black-64-gb/product\u0002reviews/itm4e5041ba101fd?pid=MOBFWQ6BXGJCEYNY&lid=LSTMOBFWQ6BXGJCEYNYZXSHRJ&market \n",
    "place=FLIPKART"
   ]
  },
  {
   "cell_type": "code",
   "execution_count": 1,
   "id": "53e1e527",
   "metadata": {},
   "outputs": [],
   "source": [
    "import selenium\n",
    "import pandas as pd\n",
    "from selenium import webdriver\n",
    "import warnings\n",
    "warnings.filterwarnings('ignore')\n",
    "from selenium.webdriver.common.by import By\n",
    "import time"
   ]
  },
  {
   "cell_type": "code",
   "execution_count": 2,
   "id": "0197bde5",
   "metadata": {},
   "outputs": [],
   "source": [
    "driver = webdriver.Chrome(r\"D:\\Downloads\\chromedriver_win32\\chromedriver.exe\")"
   ]
  },
  {
   "cell_type": "code",
   "execution_count": 3,
   "id": "842352b3",
   "metadata": {},
   "outputs": [
    {
     "ename": "SyntaxError",
     "evalue": "EOL while scanning string literal (76555105.py, line 1)",
     "output_type": "error",
     "traceback": [
      "\u001b[1;36m  File \u001b[1;32m\"C:\\Users\\Rhsha\\AppData\\Local\\Temp\\ipykernel_8680\\76555105.py\"\u001b[1;36m, line \u001b[1;32m1\u001b[0m\n\u001b[1;33m    driver.get('https://www.flipkart.com/apple-iphone-11-black-64-gb/product\u0002reviews/itm4e5041ba101fd?pid=MOBFWQ6BXGJCEYNY&lid=LSTMOBFWQ6BXGJCEYNYZXSHRJ&market\u001b[0m\n\u001b[1;37m                                                                                                                                                                ^\u001b[0m\n\u001b[1;31mSyntaxError\u001b[0m\u001b[1;31m:\u001b[0m EOL while scanning string literal\n"
     ]
    }
   ],
   "source": [
    "driver.get('https://www.flipkart.com/apple-iphone-11-black-64-gb/product\u0002reviews/itm4e5041ba101fd?pid=MOBFWQ6BXGJCEYNY&lid=LSTMOBFWQ6BXGJCEYNYZXSHRJ&market \n",
    "place=FLIPKART')"
   ]
  },
  {
   "cell_type": "code",
   "execution_count": null,
   "id": "f0857bc0",
   "metadata": {},
   "outputs": [],
   "source": [
    "There is an error which says Unfortunately the page you are looking for has been moved or deleted. Hence, unable to proceed with this question"
   ]
  },
  {
   "cell_type": "code",
   "execution_count": 4,
   "id": "e55efc53",
   "metadata": {},
   "outputs": [],
   "source": [
    "driver.close()"
   ]
  },
  {
   "cell_type": "code",
   "execution_count": null,
   "id": "238ec62c",
   "metadata": {},
   "outputs": [],
   "source": [
    "#Q6: Scrape data for first 100 sneakers you find when you visit flipkart.com and search for “sneakers” in the \n",
    "search field.\n",
    "You have to scrape 3 attributes of each sneaker:\n",
    "1. Brand\n",
    "2. ProductDescription\n",
    "3. Price\n"
   ]
  },
  {
   "cell_type": "code",
   "execution_count": 5,
   "id": "b28de1ec",
   "metadata": {},
   "outputs": [],
   "source": [
    "driver = webdriver.Chrome(r\"D:\\Downloads\\chromedriver_win32\\chromedriver.exe\")"
   ]
  },
  {
   "cell_type": "code",
   "execution_count": 6,
   "id": "424c54f5",
   "metadata": {},
   "outputs": [],
   "source": [
    "driver.get(\"https://www.flipkart.com/\")"
   ]
  },
  {
   "cell_type": "code",
   "execution_count": 8,
   "id": "76955114",
   "metadata": {},
   "outputs": [],
   "source": [
    "search_bar=driver.find_element(By.CLASS_NAME,\"_3704LK\")\n",
    "search_bar.clear()\n",
    "search_bar.send_keys('sneakers')"
   ]
  },
  {
   "cell_type": "code",
   "execution_count": 11,
   "id": "e131ff58",
   "metadata": {},
   "outputs": [],
   "source": [
    "submit=driver.find_element(By.CLASS_NAME,\"L0Z3Pu\")\n",
    "submit.click()"
   ]
  },
  {
   "cell_type": "code",
   "execution_count": 12,
   "id": "2bc5bc23",
   "metadata": {},
   "outputs": [],
   "source": [
    "brand=[]\n",
    "description=[]\n",
    "price=[]"
   ]
  },
  {
   "cell_type": "code",
   "execution_count": 14,
   "id": "8cd8007c",
   "metadata": {},
   "outputs": [],
   "source": [
    "start=0\n",
    "end=3\n",
    "for page in range(start,end):\n",
    "    brands=driver.find_elements(By.CLASS_NAME,\"_2WkVRV\")\n",
    "    for i in brands:\n",
    "        brand.append(i.text)\n",
    "        desc=driver.find_elements(By.CLASS_NAME,\"IRpwTa\")\n",
    "    for i in desc:\n",
    "        description.append(i.get_attribute('title'))\n",
    "        prices=driver.find_elements(By.XPATH,'//div[@class=\"_30jeq3\"]')\n",
    "    for i in prices[:40]:\n",
    "        price.append(i.text)"
   ]
  },
  {
   "cell_type": "code",
   "execution_count": 15,
   "id": "90d86c82",
   "metadata": {},
   "outputs": [
    {
     "name": "stdout",
     "output_type": "stream",
     "text": [
      "                  Brand                                        Description  \\\n",
      "0                BRUTON  Combo Pack Of 4 Casual Shoes Loafer Shoes Snea...   \n",
      "1                 Sparx                            SD-323 Sneakers For Men   \n",
      "2                Layasa  Casual Sneakers White Shoes For Girls And Snea...   \n",
      "3              Magnolia  Modern Trendy Sneakers boot Sneakers Sneakers ...   \n",
      "4                Labbin                                   Sneakers For Men   \n",
      "..                  ...                                                ...   \n",
      "95               BRUTON             Lattest Sneakers Shoe Sneakers For Men   \n",
      "96         K- FOOTLANCE  Smooth Black Sports,Casual,Walking,Gym Sneaker...   \n",
      "97               BRUTON  Men 201 & FitMan Combo Pack of 2 Loafer Sneake...   \n",
      "98  World Wear Footwear  Latest Exclusive Affordable Collection of Tren...   \n",
      "99               Layasa      Stylish Casual Sports Shoe Sneakers For Women   \n",
      "\n",
      "   Price  \n",
      "0   ₹499  \n",
      "1   ₹759  \n",
      "2   ₹494  \n",
      "3   ₹399  \n",
      "4   ₹379  \n",
      "..   ...  \n",
      "95  ₹249  \n",
      "96  ₹999  \n",
      "97  ₹349  \n",
      "98  ₹279  \n",
      "99  ₹399  \n",
      "\n",
      "[100 rows x 3 columns]\n"
     ]
    }
   ],
   "source": [
    "df=pd.DataFrame({'Brand':brand[:100],\n",
    "                'Description':description[:100],\n",
    "                'Price':price[:100]})\n",
    "\n",
    "print(df)"
   ]
  },
  {
   "cell_type": "code",
   "execution_count": 16,
   "id": "7e749fc3",
   "metadata": {},
   "outputs": [],
   "source": [
    "driver.close()"
   ]
  }
 ],
 "metadata": {
  "kernelspec": {
   "display_name": "Python 3 (ipykernel)",
   "language": "python",
   "name": "python3"
  },
  "language_info": {
   "codemirror_mode": {
    "name": "ipython",
    "version": 3
   },
   "file_extension": ".py",
   "mimetype": "text/x-python",
   "name": "python",
   "nbconvert_exporter": "python",
   "pygments_lexer": "ipython3",
   "version": "3.9.13"
  }
 },
 "nbformat": 4,
 "nbformat_minor": 5
}
